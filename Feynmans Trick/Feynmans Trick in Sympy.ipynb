{
 "cells": [
  {
   "cell_type": "markdown",
   "metadata": {},
   "source": [
    "# Feynman's trick in Sympy: *Speeding up significantly the integral evaluation*\n",
    "_The following text is not a solution or even a sketch of one. It is merely a motivation for finding it._\n",
    "\n",
    "Consider the following &mdash; kind of easy looking &mdash; integral:\n",
    "\n",
    "$$I = \\int_0^1\\frac{x^2-1}{\\ln x}\\,\\mathrm{d}x$$\n",
    "\n",
    "Can you solve it by some standard technique you learned in school? If the answer is yes, then congratulations. But I have a hard time believing you. Rather, let's ask Sympy to solve it for us. \n"
   ]
  },
  {
   "cell_type": "code",
   "execution_count": 2,
   "metadata": {},
   "outputs": [
    {
     "data": {
      "text/latex": [
       "$\\displaystyle \\log{\\left(3 \\right)}$"
      ],
      "text/plain": [
       "log(3)"
      ]
     },
     "execution_count": 2,
     "metadata": {},
     "output_type": "execute_result"
    }
   ],
   "source": [
    "from sympy import Symbol, ln, integrate\n",
    "\n",
    "x = Symbol('x')\n",
    "f = (x**2-1)/ln(x)\n",
    "\n",
    "integrate(f, (x, 0, 1))"
   ]
  },
  {
   "cell_type": "markdown",
   "metadata": {},
   "source": [
    "Great! We got our result. However, the computation took a few seconds. On my antique machine &mdash; iMac with Intel 4-Core i5 @2.7 GHz CPU &mdash; Sympy needed about 4 seconds to spit out the answer. Let's \"time it\" more precisely:"
   ]
  },
  {
   "cell_type": "code",
   "execution_count": 2,
   "metadata": {},
   "outputs": [
    {
     "name": "stdout",
     "output_type": "stream",
     "text": [
      "3.89 s ± 86.8 ms per loop (mean ± std. dev. of 7 runs, 1 loop each)\n"
     ]
    }
   ],
   "source": [
    "%%timeit\n",
    "integrate(f, (x, 0, 1))"
   ]
  },
  {
   "cell_type": "markdown",
   "metadata": {},
   "source": [
    "So, yes. As we see, Sympy on my Star Trek abacus needs about 4 seconds to evaluate this integral. We shall explain all the steps in a moment, but let's see what happens if we use Feynman's trick, using so-called differentiation under the integral sign."
   ]
  },
  {
   "cell_type": "code",
   "execution_count": 3,
   "metadata": {},
   "outputs": [
    {
     "data": {
      "text/latex": [
       "$\\displaystyle \\log{\\left(3 \\right)}$"
      ],
      "text/plain": [
       "log(3)"
      ]
     },
     "execution_count": 3,
     "metadata": {},
     "output_type": "execute_result"
    }
   ],
   "source": [
    "t = Symbol('t', real=True, nonnegative=True)\n",
    "# Due to Sympy's limitations, we need to declare that t is non-negative\n",
    "# even though -- as we are going to see -- t can lie in interval (-1, 0) \n",
    "It = (x**t-1)/ln(x)\n",
    "dIt = integrate(It.diff(t), (x, 0, 1))\n",
    "It2 = integrate(dIt, (t, 0, 2))\n",
    "\n",
    "It2"
   ]
  },
  {
   "cell_type": "markdown",
   "metadata": {},
   "source": [
    "Voilà. We have obtained the same result, and what's more, if you run the cell above yourself the calculation feels faster. Much faster. Run `%%timeit` magic function once again."
   ]
  },
  {
   "cell_type": "code",
   "execution_count": 4,
   "metadata": {},
   "outputs": [
    {
     "name": "stdout",
     "output_type": "stream",
     "text": [
      "20.7 ms ± 127 µs per loop (mean ± std. dev. of 7 runs, 10 loops each)\n"
     ]
    }
   ],
   "source": [
    "%%timeit\n",
    "dIt = integrate(It.diff(t), (x, 0, 1))\n",
    "It2 = integrate(dIt, (t, 0, 2))"
   ]
  },
  {
   "cell_type": "markdown",
   "metadata": {},
   "source": [
    "20 ms vs. circa 4 seconds (4 000 ms)! That is 200x speed-up! That's insane. "
   ]
  },
  {
   "cell_type": "markdown",
   "metadata": {},
   "source": [
    "Just for the sake of curiosity, let's change the Jupyter kernel from Python to Mathematica (Wolfram Engine) and see how long it will take her to finish this integral:"
   ]
  },
  {
   "cell_type": "code",
   "execution_count": 1,
   "metadata": {},
   "outputs": [
    {
     "data": {
      "text/html": [
       "<div><img alt=\"Output\" src=\"data:image/png;base64,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\"></div>"
      ],
      "text/plain": [
       "{2.45455, Log[3]}"
      ]
     },
     "execution_count": 1,
     "metadata": {
      "text/html": [],
      "text/plain": []
     },
     "output_type": "execute_result"
    }
   ],
   "source": [
    "Timing[Integrate[(x^2 - 1)/Log[x], {x, 0, 1}]]"
   ]
  },
  {
   "cell_type": "markdown",
   "metadata": {},
   "source": [
    "About 2 seconds &mdash; that is not great either and, to be honest, I am shocked that Mathematica is struggling here, too. The calculation was way slower than our Python implementation of Feynman's trick! "
   ]
  },
  {
   "cell_type": "markdown",
   "metadata": {
    "vscode": {
     "languageId": "python"
    }
   },
   "source": [
    "### Parametrization: Introducing a new variable $t$\n",
    "\n",
    "We sort of cheated in the Python code above &mdash; however, we will address that later. But what was the essential point? We applied the following transformation:\n",
    "\n",
    "$$I = \\int_0^1\\frac{x^2-1}{\\ln x}\\,\\mathrm{d}x,$$\n",
    "$$ I \\rightarrow I(t) := \\int_0^1\\frac{x^t-1}{\\ln x}\\,\\mathrm{d}x$$\n",
    "\n",
    "replacing the exponent 2 with a new variable, or a parameter, $t$. The reason behind it is that we hope to get a simpler expression after differentiation of the generalized integral with respect to $t$."
   ]
  },
  {
   "cell_type": "markdown",
   "metadata": {},
   "source": [
    "### Differentation Under The Integral Sign\n",
    "\n",
    "In the second step, we used the identity\n",
    "\n",
    "$$I'(t)\\equiv\\frac{\\mathrm{d}}{\\mathrm{d}t}\\int_a^b f(x, t)\\,\\mathrm{d}x = \\int_a^b\\frac{\\partial}{\\partial t}f(x, t)\\,\\mathrm{d}x$$\n",
    "\n",
    "which is satisfied if $f(x, t)$ is a continuous and continuously differentiable.\n"
   ]
  },
  {
   "cell_type": "markdown",
   "metadata": {},
   "source": [
    "The idea of differentiation with respect to the new parameter is that we might get a more friendly expression. Let's do that, just recall that $\\partial_t(x^t) = x^t\\ln x\\,$ and notice that the second term $-1/\\ln x$ is constant with respect to $t$ so its derivative vanishes. Putting it all together, we get \n",
    "\n",
    "$$\\frac{\\partial}{\\partial t}\\frac{x^t-1}{\\ln x} = x^t,$$\n",
    "$$\\int_0^1\\frac{\\partial}{\\partial t}\\frac{x^t-1}{\\ln x}\\,\\mathrm{d}x = \\int_0^1 x^t\\,\\mathrm{d}x.$$\n",
    "\n",
    "This integral is really easy to calculate, right? \n",
    "\n",
    "$$\\int_0^1 x^t\\,\\mathrm{d}x = \\left[\\frac{x^{t+1}}{t+1}\\right]_0^1 =\\frac{1}{t+1}.$$\n",
    "\n",
    "We have now come to a point where we know that $I'(t) = 1/(t+1)$. Its antiderivative is so simple that without further ado we write\n",
    "\n",
    "$$I(t) = \\ln(t+1) + C,\\, t\\gt -1.$$\n",
    "\n",
    "A hairsplitter would say that the primitive function in fact equals to $\\ln(|t+1|) + C,\\, t\\in\\mathbb{R}\\setminus \\{-1\\}$. Yes, congratulations on this but for $t\\leq -1$ the original integral does not converge on $(0, 1)$ (just think of the last integral above, and you will see it)."
   ]
  },
  {
   "cell_type": "markdown",
   "metadata": {},
   "source": [
    "### Convenient Integral Values and The Constant\n",
    "Most of the texts on Feynman's trick at this point go on like \"we can easily see that...\" in order to find the integration constant. It might be convenient, however sometimes I doubt it's \"easy\". Even though it might be \"easy\", it's easy for humans but not for computers. If we look at the definition we used, i.e. $I(t):=\\int_0^1\\frac{x^t-1}{\\ln x}\\,\\mathrm{d}x$, \"we can easily see that\" for $I(0) = \\int_0^1\\frac{x^0-1}{\\ln x}\\,\\mathrm{d}x = \\int_0^1\\frac{1-1}{\\ln x}\\,\\mathrm{d}x = 0\\cdot\\int_0^1\\frac{1}{\\ln x}\\,\\mathrm{d}x = 0$.\n",
    "\n",
    "As promised, from here we obtain the constant of integration,\n",
    "\n",
    "$$I(0) = \\ln(1) + C = 0 \\Rightarrow C=0.$$\n",
    "\n",
    "And so we have found that\n",
    "\n",
    "$$I(t) = \\ln(t+1) \\Rightarrow I(2) = \\ln 3,$$\n",
    "$$\\underline{\\underline{ \\int_0^1\\frac{x^2-1}{\\ln x}\\,\\mathrm{d}x = \\ln\\,3}}.$$\n",
    "\n",
    "What's more, we have found a general relationship holding for $t \\gt -1$:\n",
    "\n",
    "$$\\boxed{I(t) := \\int_0^1\\frac{x^t-1}{\\ln x}\\,\\mathrm{d}x = \\ln(t+1)} $$\n",
    "\n",
    "which means we can instantly find integrals like\n",
    "\n",
    "$$\\int_0^1\\frac{x-1}{\\ln(x)}\\,\\mathrm{d}x,\\, \\int_0^1\\frac{x^3-1}{\\ln x}\\,\\mathrm{d}x,\\, \\int_0^1\\frac{x^6-1}{\\ln x}\\,\\mathrm{d}x\\,\\ldots$$\n",
    "\n",
    "Their values are $\\ln 1 = 0, \\ln 4, \\ln 7\\ldots$\n",
    "\n",
    "We can even evaluate $I(-1/2)$:\n",
    "\n",
    "$$\\int_0^1\\frac{x^{-\\frac{1}{2}}-1}{\\ln x}\\,\\mathrm{d}x = \\ln\\left(-\\frac{1}{2} + 1\\right) = \\ln(2^{-1}) = -\\ln 2.$$\n"
   ]
  },
  {
   "cell_type": "markdown",
   "metadata": {},
   "source": [
    "Let's try Sympy again to see if it is able to find the right answer."
   ]
  },
  {
   "cell_type": "code",
   "execution_count": 5,
   "metadata": {},
   "outputs": [
    {
     "data": {
      "text/latex": [
       "$\\displaystyle - \\log{\\left(2 \\right)}$"
      ],
      "text/plain": [
       "-log(2)"
      ]
     },
     "execution_count": 5,
     "metadata": {},
     "output_type": "execute_result"
    }
   ],
   "source": [
    "g = (x**(-1/2)-1)/ln(x)\n",
    "\n",
    "integrate(g, (x, 0, 1))"
   ]
  },
  {
   "cell_type": "markdown",
   "metadata": {},
   "source": [
    "It did find it. However, it feels even slower than for $I(t=2)$. And really, when we run `%%timeit` we see that:"
   ]
  },
  {
   "cell_type": "code",
   "execution_count": 6,
   "metadata": {},
   "outputs": [
    {
     "name": "stdout",
     "output_type": "stream",
     "text": [
      "6.86 s ± 1.29 s per loop (mean ± std. dev. of 7 runs, 1 loop each)\n"
     ]
    }
   ],
   "source": [
    "%%timeit\n",
    "integrate(g, (x, 0, 1))"
   ]
  },
  {
   "cell_type": "markdown",
   "metadata": {},
   "source": [
    "And also retry Mathematica to see how much time she needs for this integral:"
   ]
  },
  {
   "cell_type": "code",
   "execution_count": 1,
   "metadata": {},
   "outputs": [
    {
     "data": {
      "text/html": [
       "<div><img alt=\"Output\" src=\"data:image/png;base64,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\"></div>"
      ],
      "text/plain": [
       "{2.6242, -Log[2]}"
      ]
     },
     "execution_count": 1,
     "metadata": {
      "text/html": [],
      "text/plain": []
     },
     "output_type": "execute_result"
    }
   ],
   "source": [
    "Timing[Integrate[(x^(-1/2) - 1)/Log[x], {x, 0, 1}]]"
   ]
  },
  {
   "cell_type": "markdown",
   "metadata": {},
   "source": [
    "### The Fundamental Theorem of Calculus to Help\n",
    "Above, we were able to see that $I(0) = 0$ which implied $C=0$. As we said, computers generally do not \"see\" that. With the help of Deep Learning you can push things further but that is another story. \n",
    "\n",
    "We can get rid of the integration constant by focusing on the well known relationship from calculus (the constants cancel out)\n",
    "\n",
    "$$\\int_a^b f(t)\\,\\mathrm{d}t = F(b) - F(a)$$\n",
    "\n",
    "Then we are looking for\n",
    "\n",
    "$$\\int_a^t I'(t)\\,\\mathrm{d}t = I(t) - I(a)$$\n",
    "\n",
    "such that $I(a)$ vanishes.\n",
    "\n",
    "$$I(a) = \\ln(a+1) = 0 \\Leftrightarrow a=0 $$\n",
    "\n",
    "which does correspond to $I(0) = 0$ from above. \n",
    "\n",
    "That is why we said that we cheated in the code: we used `I2 = integrate(dI, (t, 0, 2))` meaning $I(2) = \\int_0^2 I'(t)\\,\\mathrm{d}t$, even though we did not know the lower limit back then."
   ]
  },
  {
   "cell_type": "markdown",
   "metadata": {},
   "source": [
    "### Using Sympy Solvers\n",
    "From a practical point of view it means that in our simple code we need to introduce one of Sympy solvers, e.g. `solve` or `solveset`. Yes, if the antiderivate in question has no roots we are \"scroot\"..."
   ]
  },
  {
   "cell_type": "code",
   "execution_count": 3,
   "metadata": {},
   "outputs": [
    {
     "data": {
      "text/latex": [
       "$\\displaystyle \\log{\\left(3 \\right)}$"
      ],
      "text/plain": [
       "log(3)"
      ]
     },
     "execution_count": 3,
     "metadata": {},
     "output_type": "execute_result"
    }
   ],
   "source": [
    "from sympy import solveset\n",
    "\n",
    "x = Symbol('x')\n",
    "t = Symbol('t', real=True, nonnegative=True)\n",
    "f = (x**t-1)/ln(x)\n",
    "\n",
    "dI = integrate(f.diff(t), (x, 0, 1))\n",
    "It = integrate(dI, t)\n",
    "\n",
    "sol = solveset(It, t) # Finding I(a) == 0\n",
    "if sol:\n",
    "    a = sol.args[0]\n",
    "    I2 = integrate(dI, (t, a, 2)) # I(2)\n",
    "else:\n",
    "    raise ValueError('The antiderivative I(t) does not have any root.')\n",
    "\n",
    "I2\n"
   ]
  },
  {
   "cell_type": "markdown",
   "metadata": {},
   "source": [
    "### Discussion\n",
    "This was a straightforward example of Feynman's integration trick, illustrating the core principle we've outlined. However, the procedure can sometimes involve taking limits instead of relying on solvers, or we may need to apply the trick more than once. Additionally, determining which part of the integral to parametrize often requires experimentation. Typically, we also need to incorporate techniques such as integration per partes (by parts), substitutions, or even various transforms.\n",
    "\n",
    "It all applies to the original integral as well. Feynman's trick helps us to obtain a simpler mathematical expression for further integration, but it is not a magic wand that allows one (or a computer) to avoid using any integration methods. Integration under the integral sign often leads to integrals that can be found in tables, but they are not necessarily the simplest ones. Then, it again depends on the capabilities of the CAS algorithms, in this case, Sympy."
   ]
  },
  {
   "cell_type": "markdown",
   "metadata": {},
   "source": [
    "$$\\int_0^\\infty \\frac{\\sin x}{x} = \\frac{\\pi}{2}$$"
   ]
  },
  {
   "cell_type": "markdown",
   "metadata": {},
   "source": [
    "Sympy can quickly solve some of these unusual integrals. This so-called Dirichlet integral is typically solved using the Laplace transform and/or Feynman's trick. Sympy computes it in an instant &mdash; in a few miliseconds!"
   ]
  },
  {
   "cell_type": "code",
   "execution_count": 4,
   "metadata": {},
   "outputs": [
    {
     "data": {
      "text/latex": [
       "$\\displaystyle \\frac{\\pi}{2}$"
      ],
      "text/plain": [
       "pi/2"
      ]
     },
     "execution_count": 4,
     "metadata": {},
     "output_type": "execute_result"
    }
   ],
   "source": [
    "from sympy import sin, oo\n",
    "\n",
    "integrate(sin(x)/x, (x, 0, oo))"
   ]
  },
  {
   "cell_type": "code",
   "execution_count": 5,
   "metadata": {},
   "outputs": [
    {
     "name": "stdout",
     "output_type": "stream",
     "text": [
      "4.57 ms ± 16.6 µs per loop (mean ± std. dev. of 7 runs, 100 loops each)\n"
     ]
    }
   ],
   "source": [
    "%%timeit\n",
    "integrate(sin(x)/x, (x, 0, oo))"
   ]
  },
  {
   "cell_type": "markdown",
   "metadata": {},
   "source": [
    "And let's look at another integral with a beautiful result &mdash; again, it can be solved using Feynman's trick, but &mdash; surprisingly &mdash; Sympy calculates it quickly on its own."
   ]
  },
  {
   "cell_type": "markdown",
   "metadata": {},
   "source": [
    "$$\\int_{-\\infty}^\\infty \\frac{\\cos x}{x^2+1}\\,\\mathrm{d}x=\\frac{\\pi}{e}$$"
   ]
  },
  {
   "cell_type": "code",
   "execution_count": 6,
   "metadata": {},
   "outputs": [
    {
     "data": {
      "text/latex": [
       "$\\displaystyle \\frac{\\pi}{e}$"
      ],
      "text/plain": [
       "pi*exp(-1)"
      ]
     },
     "execution_count": 6,
     "metadata": {},
     "output_type": "execute_result"
    }
   ],
   "source": [
    "from sympy import cos\n",
    "\n",
    "integrate(cos(x)/(x**2 + 1), (x, -oo, oo)).simplify()"
   ]
  },
  {
   "cell_type": "code",
   "execution_count": 7,
   "metadata": {},
   "outputs": [
    {
     "name": "stdout",
     "output_type": "stream",
     "text": [
      "145 ms ± 7.02 ms per loop (mean ± std. dev. of 7 runs, 10 loops each)\n"
     ]
    }
   ],
   "source": [
    "%%timeit\n",
    "integrate(cos(x)/(x**2 + 1), (x, -oo, oo))"
   ]
  },
  {
   "cell_type": "markdown",
   "metadata": {},
   "source": [
    "On the other hand, let's examine a fairly simple integral, which can be solved using either Feynman's trick or by parts."
   ]
  },
  {
   "cell_type": "markdown",
   "metadata": {},
   "source": [
    "$$\\int_0^1 x^{\\frac{4}{3}} \\ln x\\,\\mathrm{d}x$$"
   ]
  },
  {
   "cell_type": "markdown",
   "metadata": {},
   "source": [
    "We'll first use Feynman's method. However, we can skip the initial step since the integrand is already in the desired form. That's because $x^t\\ln x = \\partial_t (x^t)$. In fact, we're proceeding backwards:\n",
    "\n",
    "$$I(t) := \\int_0^1 x^t \\ln x\\,\\mathrm{d}x = \\int_0^1 \\frac{\\partial}{\\partial t}x^t\\,\\mathrm{d}x=\\frac{\\mathrm{d}}{\\mathrm{d}t}\\int_0^1 x^t\\,\\mathrm{d}x,$$\n",
    "$$I(t) = \\frac{\\mathrm{d}}{\\mathrm{d}t} \\left[\\frac{x^{t+1}}{t+1}\\right]_0^1 = \\frac{\\mathrm{d}}{\\mathrm{d}t}\\left(\\frac{1}{t+1}\\right) \\Rightarrow$$\n",
    "$$\\boxed{I(t) = -\\frac{1}{(t+1)^2},\\,\\, t\\gt-1.} $$\n",
    "$$\\int_0^1 x^{\\frac{4}{3}} \\ln x\\,\\mathrm{d}x = I\\left(\\frac{4}{3}\\right) = -\\frac{9}{49}.$$"
   ]
  },
  {
   "cell_type": "markdown",
   "metadata": {},
   "source": [
    "As you can see, this integral can essentially be calculated in a single line. That is true even for per partes (by parts) method: $v'=x^{4/3} \\Rightarrow v = 3/7\\,x^{7/3}$ and $u = \\ln x \\Rightarrow u' = 1/x$.\n",
    "\n",
    "$$\\int_0^1 x^{\\frac{4}{3}} \\ln x\\,\\mathrm{d}x = \\left[\\frac{3}{7}x^{7/3}\\ln x\\right]_0^1 - \\frac{3}{7}\\int_0^1\\frac{x^{7/3}}{x}\\mathrm{d}x = $$\n",
    "$$ = 0 - \\frac{3}{7}\\int_0^1 x^{4/3}\\mathrm{d}x = -\\frac{3}{7}\\cdot\\frac{3}{7}\\left[x^{7/3}\\right]_0^1 = -\\frac{9}{49}.$$"
   ]
  },
  {
   "cell_type": "markdown",
   "metadata": {},
   "source": [
    "<s>Even though this integral belongs among one-liners, Sympy struggles with it &mdash; and big time</s>:"
   ]
  },
  {
   "cell_type": "code",
   "execution_count": 8,
   "metadata": {},
   "outputs": [
    {
     "data": {
      "image/png": "[encoded data removed]",
      "text/plain": [
       "<IPython.core.display.Image object>"
      ]
     },
     "execution_count": 8,
     "metadata": {},
     "output_type": "execute_result"
    }
   ],
   "source": [
    "from IPython import display\n",
    "display.Image(\"./integral_chyba_sympy.png\")"
   ]
  },
  {
   "cell_type": "code",
   "execution_count": 9,
   "metadata": {},
   "outputs": [
    {
     "data": {
      "text/latex": [
       "$\\displaystyle - \\frac{9}{49}$"
      ],
      "text/plain": [
       "-9/49"
      ]
     },
     "execution_count": 9,
     "metadata": {},
     "output_type": "execute_result"
    }
   ],
   "source": [
    "# Note: Now it is fixed\n",
    "from sympy import Rational\n",
    "x = Symbol('x')\n",
    "integrate(x**Rational(4, 3)*ln(x), (x, 0, 1))"
   ]
  },
  {
   "cell_type": "markdown",
   "metadata": {},
   "source": [
    "We used `Rational(4, 3)` as a fraction 4/3 would make Sympy think of the exponent as a float and an error would be rised (`PolynomialError: RisingFactorial(_t + 3.33333333333333, 1.0) contains an element of the set of generators.`)"
   ]
  },
  {
   "cell_type": "markdown",
   "metadata": {},
   "source": [
    "In any case, Sympy returned a rather wild result, which isn't correct and isn't a result either. However, it's interesting to note that when we input numbers into Rational such that their ratio is a natural number, the computation proceeds without any issues."
   ]
  },
  {
   "cell_type": "code",
   "execution_count": 10,
   "metadata": {},
   "outputs": [
    {
     "data": {
      "text/latex": [
       "$\\displaystyle - \\frac{1}{9}$"
      ],
      "text/plain": [
       "-1/9"
      ]
     },
     "execution_count": 10,
     "metadata": {},
     "output_type": "execute_result"
    }
   ],
   "source": [
    "integrate(x**Rational(4, 2)*ln(x), (x, 0, 1))"
   ]
  },
  {
   "cell_type": "markdown",
   "metadata": {},
   "source": [
    "This agrees with our formula $I(t) = -1/(t+1)^2$, $I(2) = - 1/3^2 = -1/9$. This simply seems to be some kind of bug in Sympy and should be addressed. Update: [I reported the bug](https://github.com/sympy/sympy/issues/26930) and it is going to be fixed in the upcoming release (my guess is Sympy 1.13.2)."
   ]
  },
  {
   "cell_type": "markdown",
   "metadata": {},
   "source": [
    "### If you want a really fast computation...\n",
    "use numerical integration. Symbolic results in mathematics are always beautiful, as seen in the example above, where integration gave us $\\pi/e$. However, in practical applications, we often need specific numerical values. In such cases, it's far more appropriate to opt for numerical integration, which can handle a much broader range of integrals (including those that are analytically unsolvable or very difficult to solve) and can compute them very quickly.\n",
    "\n",
    "Sympy itself has only one external dependency—mpmath. And we can use this library for numerical integration. For example, our integral can be computed like this:"
   ]
  },
  {
   "cell_type": "code",
   "execution_count": 11,
   "metadata": {},
   "outputs": [
    {
     "name": "stdout",
     "output_type": "stream",
     "text": [
      "1.09861228866811\n"
     ]
    }
   ],
   "source": [
    "from mpmath import mp\n",
    "f = lambda x: (x**2-1)/mp.log(x)\n",
    "int_f = mp.quad(f, [0, 1])\n",
    "print(int_f)"
   ]
  },
  {
   "cell_type": "markdown",
   "metadata": {},
   "source": [
    "If you're using Sympy, it's quite likely that you're also familiar with Numpy and Scipy. With these libraries, numerical integration is even faster:"
   ]
  },
  {
   "cell_type": "code",
   "execution_count": 12,
   "metadata": {},
   "outputs": [
    {
     "data": {
      "text/plain": [
       "(1.0986122886682985, 5.4702065099832e-10)"
      ]
     },
     "execution_count": 12,
     "metadata": {},
     "output_type": "execute_result"
    }
   ],
   "source": [
    "import numpy as np\n",
    "from scipy.integrate import quad\n",
    "\n",
    "f = lambda x: (x**2-1)/np.log(x)\n",
    "int_f = quad(f , 0, 1)\n",
    "int_f # Second member of the tuple refers to an absolute error estimate"
   ]
  },
  {
   "cell_type": "code",
   "execution_count": 13,
   "metadata": {},
   "outputs": [
    {
     "name": "stdout",
     "output_type": "stream",
     "text": [
      "557 µs ± 9.24 µs per loop (mean ± std. dev. of 7 runs, 1,000 loops each)\n"
     ]
    }
   ],
   "source": [
    "%%timeit\n",
    "int_f = quad(f, 0, 1)"
   ]
  },
  {
   "cell_type": "markdown",
   "metadata": {},
   "source": [
    "Let's compare the value of the integral obtained using the numerical method with the numerical value of \n",
    "$\\log 3$:"
   ]
  },
  {
   "cell_type": "code",
   "execution_count": 14,
   "metadata": {},
   "outputs": [
    {
     "data": {
      "text/plain": [
       "(1.0986122886682985, 1.0986122886681098)"
      ]
     },
     "execution_count": 14,
     "metadata": {},
     "output_type": "execute_result"
    }
   ],
   "source": [
    "int_f[0], np.log(3)"
   ]
  },
  {
   "cell_type": "markdown",
   "metadata": {},
   "source": [
    "From seconds to microseconds &mdash; not bad!"
   ]
  },
  {
   "cell_type": "markdown",
   "metadata": {},
   "source": [
    "| Numerical                 | Feynman               | Sympy alg.      |\n",
    "| ------------------------- | --------------------- | --------------- |\n",
    "| $O(100\\, \\mathrm{\\mu s})$ | $O(10\\, \\mathrm{ms})$ | $O(\\mathrm{s})$ |"
   ]
  }
 ],
 "metadata": {
  "kernelspec": {
   "display_name": "Python 3 (ipykernel)",
   "language": "python",
   "name": "python3"
  },
  "language_info": {
   "codemirror_mode": {
    "name": "ipython",
    "version": 3
   },
   "file_extension": ".py",
   "mimetype": "text/x-python",
   "name": "python",
   "nbconvert_exporter": "python",
   "pygments_lexer": "ipython3",
   "version": "3.11.1"
  }
 },
 "nbformat": 4,
 "nbformat_minor": 4
}
