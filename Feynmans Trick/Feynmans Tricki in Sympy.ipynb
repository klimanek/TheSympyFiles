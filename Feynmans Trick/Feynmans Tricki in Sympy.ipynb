{
 "cells": [
  {
   "cell_type": "markdown",
   "metadata": {},
   "source": [
    "# Feynman's trick in Sympy: *Speeding up significantly the integral evaluation*\n",
    "_The following text is not a solution or even a sketch of one. It is merely a motivation for finding it._\n",
    "\n",
    "Consider the following &mdash; kind of easy looking &mdash; integral:\n",
    "\n",
    "$$I = \\int_0^1\\frac{x^2-1}{\\ln x}\\,\\mathrm{d}x$$\n",
    "\n",
    "Can you solve it by some standard technique you learned in school? If the answer is yes, then congratulations. But I have a hard time believing you. Rather, let's ask Sympy to solve it for us. \n"
   ]
  },
  {
   "cell_type": "code",
   "execution_count": 1,
   "metadata": {},
   "outputs": [
    {
     "data": {
      "text/latex": [
       "$\\displaystyle \\log{\\left(3 \\right)}$"
      ],
      "text/plain": [
       "log(3)"
      ]
     },
     "execution_count": 1,
     "metadata": {},
     "output_type": "execute_result"
    }
   ],
   "source": [
    "from sympy import Symbol, ln, integrate\n",
    "\n",
    "x = Symbol('x')\n",
    "f = (x**2-1)/ln(x)\n",
    "\n",
    "integrate(f, (x, 0, 1))"
   ]
  },
  {
   "cell_type": "markdown",
   "metadata": {},
   "source": [
    "Great! We got our result. However, the computation took a few seconds. On my antique machine &mdash; iMac with Intel 4-Core i5 @2.7 GHz CPU &mdash; Sympy needed about 4 seconds to spit out the answer. Let's \"time it\" more precisely:"
   ]
  },
  {
   "cell_type": "code",
   "execution_count": 2,
   "metadata": {},
   "outputs": [
    {
     "name": "stdout",
     "output_type": "stream",
     "text": [
      "3.98 s ± 80.1 ms per loop (mean ± std. dev. of 7 runs, 1 loop each)\n"
     ]
    }
   ],
   "source": [
    "%%timeit\n",
    "integrate(f, (x, 0, 1))"
   ]
  },
  {
   "cell_type": "markdown",
   "metadata": {},
   "source": [
    "So, yes. As we see, Sympy on my Star Trek abacus needs about 4 seconds to evaluate this integral. We shall explain all the steps in a moment, but let's see what happens if we use Feynman's trick, using so-called differentiation under the integral sign."
   ]
  },
  {
   "cell_type": "code",
   "execution_count": 41,
   "metadata": {},
   "outputs": [
    {
     "data": {
      "text/latex": [
       "$\\displaystyle \\log{\\left(3 \\right)}$"
      ],
      "text/plain": [
       "log(3)"
      ]
     },
     "execution_count": 41,
     "metadata": {},
     "output_type": "execute_result"
    }
   ],
   "source": [
    "t = Symbol('t', real=True, nonnegative=True)\n",
    "# Due to Sympy's limitations, we need to declare that t is non-negative\n",
    "# even though -- as we are going to see -- t can lie in interval (-1, 0) \n",
    "It = (x**t-1)/ln(x)\n",
    "dIt = integrate(It.diff(t), (x, 0, 1))\n",
    "It2 = integrate(dIt, (t, 0, 2))\n",
    "\n",
    "It2"
   ]
  },
  {
   "cell_type": "markdown",
   "metadata": {},
   "source": [
    "Voilà. We have obtained the same result, and what's more, if you run the cell above yourself the calculation feels faster. Much faster. Run `%%timeit` magic function once again."
   ]
  },
  {
   "cell_type": "code",
   "execution_count": 5,
   "metadata": {},
   "outputs": [
    {
     "name": "stdout",
     "output_type": "stream",
     "text": [
      "21.1 ms ± 184 µs per loop (mean ± std. dev. of 7 runs, 10 loops each)\n"
     ]
    }
   ],
   "source": [
    "%%timeit\n",
    "dIt = integrate(It.diff(t), (x, 0, 1))\n",
    "It2 = integrate(dIt, (t, 0, 2))"
   ]
  },
  {
   "cell_type": "markdown",
   "metadata": {},
   "source": [
    "20 ms vs. circa 4 seconds (4 000 ms)! That is 200x speed-up! That's insane. "
   ]
  },
  {
   "cell_type": "markdown",
   "metadata": {},
   "source": [
    "Just for the sake of curiosity, let's change the Jupyter kernel from Python to Mathematica (Wolfram Engine) and see how long it will take her to finish this integral:"
   ]
  },
  {
   "cell_type": "code",
   "execution_count": 2,
   "metadata": {},
   "outputs": [
    {
     "data": {
      "text/html": [
       "<div><img alt=\"Output\" src=\"data:image/png;base64,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\"></div>"
      ],
      "text/plain": [
       "{1.81979, Log[3]}"
      ]
     },
     "execution_count": 2,
     "metadata": {
      "text/html": [],
      "text/plain": []
     },
     "output_type": "execute_result"
    }
   ],
   "source": [
    "Timing[Integrate[(x^2 - 1)/Log[x], {x, 0, 1}]]"
   ]
  },
  {
   "cell_type": "markdown",
   "metadata": {},
   "source": [
    "About 2 seconds &mdash; that is not great either and, to be honest, I am shocked that Mathematica is struggling here, too. The calculation was way slower than our Python implementation of Feynman's trick! "
   ]
  },
  {
   "cell_type": "markdown",
   "metadata": {
    "vscode": {
     "languageId": "python"
    }
   },
   "source": [
    "### Parametrization: Introducing a new variable $t$\n",
    "\n",
    "We sort of cheated in the Python code above &mdash; however, we will address that later. But what was the essential point? We applied the following transformation:\n",
    "\n",
    "$$I = \\int_0^1\\frac{x^2-1}{\\ln x}\\,\\mathrm{d}x,$$\n",
    "$$ I \\rightarrow I(t) := \\int_0^1\\frac{x^t-1}{\\ln x}\\,\\mathrm{d}x$$\n",
    "\n",
    "replacing the exponent 2 with a new variable, or a parameter, $t$. The reason behind it is that we hope to get a simpler expression after differentiation of the generalized integral with respect to $t$."
   ]
  },
  {
   "cell_type": "markdown",
   "metadata": {},
   "source": [
    "### Differentation Under The Integral Sign\n",
    "\n",
    "In the second step, we used the identity\n",
    "\n",
    "$$I'(t)\\equiv\\frac{\\mathrm{d}}{\\mathrm{d}t}\\int_a^b f(x, t)\\,\\mathrm{d}x = \\int_a^b\\frac{\\partial}{\\partial t}f(x, t)\\,\\mathrm{d}x$$\n",
    "\n",
    "which is satisfied if $f(x, t)$ is a continuous and continuously differentiable.\n"
   ]
  },
  {
   "cell_type": "markdown",
   "metadata": {},
   "source": [
    "The idea of differentiation with respect to the new parameter is that we might get a more friendly expression. Let's do that, just recall that $\\partial_t(x^t) = x^t\\ln x\\,$ and notice that the second term $-1/\\ln x$ is constant with respect to $t$ so its derivative vanishes. Putting it all together, we get \n",
    "\n",
    "$$\\frac{\\partial}{\\partial t}\\frac{x^t-1}{\\ln x} = x^t,$$\n",
    "$$\\int_0^1\\frac{\\partial}{\\partial t}\\frac{x^t-1}{\\ln x}\\,\\mathrm{d}x = \\int_0^1 x^t\\,\\mathrm{d}x.$$\n",
    "\n",
    "This integral is really easy to calculate, right? \n",
    "\n",
    "$$\\int_0^1 x^t\\,\\mathrm{d}x = \\left[\\frac{x^{t+1}}{t+1}\\right]_0^1 =\\frac{1}{t+1}.$$\n",
    "\n",
    "We have now come to a point where we know that $I'(t) = 1/(t+1)$. Its antiderivative is so simple that without further ado we write\n",
    "\n",
    "$$I(t) = \\ln(t+1) + C,\\, t\\gt -1.$$\n",
    "\n",
    "A hairsplitter would say that the primitive function in fact equals to $\\ln(|t+1|) + C,\\, t\\in\\mathbb{R}\\setminus \\{-1\\}$. Yes, congratulations on this but for $t\\leq -1$ the original integral does not converge on $(0, 1)$ (just think of the last integral above, and you will see it)."
   ]
  },
  {
   "cell_type": "markdown",
   "metadata": {},
   "source": [
    "### Convenient Integral Values and The Constant\n",
    "Most of the texts on Feynman's trick at this point go on like \"we can easily see that...\" in order to find the integration constant. It might be convenient, however sometimes I doubt it's \"easy\". Even though it might be \"easy\", it's easy for humans but not for computers. If we look at the definition we used, i.e. $I(t):=\\int_0^1\\frac{x^t-1}{\\ln x}\\,\\mathrm{d}x$, \"we can easily see that\" for $I(0) = \\int_0^1\\frac{x^0-1}{\\ln x}\\,\\mathrm{d}x = \\int_0^1\\frac{1-1}{\\ln x}\\,\\mathrm{d}x = 0\\cdot\\int_0^1\\frac{1}{\\ln x}\\,\\mathrm{d}x = 0$.\n",
    "\n",
    "As promised, from here we obtain the constant of integration,\n",
    "\n",
    "$$I(0) = \\ln(1) + C = 0 \\Rightarrow C=0.$$\n",
    "\n",
    "And so we have found that\n",
    "\n",
    "$$I(t) = \\ln(t+1) \\Rightarrow I(2) = \\ln 3,$$\n",
    "$$\\underline{\\underline{ \\int_0^1\\frac{x^2-1}{\\ln x}\\,\\mathrm{d}x = \\ln\\,3}}.$$\n",
    "\n",
    "What's more, we have found a general relationship holding for $t \\gt -1$:\n",
    "\n",
    "$$\\boxed{I(t) := \\int_0^1\\frac{x^t-1}{\\ln x}\\,\\mathrm{d}x = \\ln(t+1)} $$\n",
    "\n",
    "which means we can instantly find integrals like\n",
    "\n",
    "$$\\int_0^1\\frac{x-1}{\\ln(x)}\\,\\mathrm{d}x,\\, \\int_0^1\\frac{x^3-1}{\\ln x}\\,\\mathrm{d}x,\\, \\int_0^1\\frac{x^6-1}{\\ln x}\\,\\mathrm{d}x\\,\\ldots$$\n",
    "\n",
    "Their values are $\\ln 1 = 0, \\ln 4, \\ln 7\\ldots$\n",
    "\n",
    "We can even evaluate $I(-1/2)$:\n",
    "\n",
    "$$\\int_0^1\\frac{x^{-\\frac{1}{2}}-1}{\\ln x}\\,\\mathrm{d}x = \\ln\\left(-\\frac{1}{2} + 1\\right) = \\ln(2^{-1}) = -\\ln 2.$$\n"
   ]
  },
  {
   "cell_type": "markdown",
   "metadata": {},
   "source": [
    "Let's try Sympy again to see if it is able to find the right answer."
   ]
  },
  {
   "cell_type": "code",
   "execution_count": 6,
   "metadata": {},
   "outputs": [
    {
     "data": {
      "text/latex": [
       "$\\displaystyle - \\log{\\left(2 \\right)}$"
      ],
      "text/plain": [
       "-log(2)"
      ]
     },
     "execution_count": 6,
     "metadata": {},
     "output_type": "execute_result"
    }
   ],
   "source": [
    "g = (x**(-1/2)-1)/ln(x)\n",
    "\n",
    "integrate(g, (x, 0, 1))"
   ]
  },
  {
   "cell_type": "markdown",
   "metadata": {},
   "source": [
    "Wow, it did find it. However, it feels even slower than for $I(t=2)$. And really, when we run `%%timeit` we see that:"
   ]
  },
  {
   "cell_type": "code",
   "execution_count": 7,
   "metadata": {},
   "outputs": [
    {
     "name": "stdout",
     "output_type": "stream",
     "text": [
      "5.82 s ± 95.2 ms per loop (mean ± std. dev. of 7 runs, 1 loop each)\n"
     ]
    }
   ],
   "source": [
    "%%timeit\n",
    "integrate(g, (x, 0, 1))"
   ]
  },
  {
   "cell_type": "markdown",
   "metadata": {},
   "source": [
    "And also retry Mathematica to see how much time she needs for this integral:"
   ]
  },
  {
   "cell_type": "code",
   "execution_count": 1,
   "metadata": {},
   "outputs": [
    {
     "data": {
      "text/html": [
       "<div><img alt=\"Output\" src=\"data:image/png;base64,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\"></div>"
      ],
      "text/plain": [
       "{2.75287, -Log[2]}"
      ]
     },
     "execution_count": 1,
     "metadata": {
      "text/html": [],
      "text/plain": []
     },
     "output_type": "execute_result"
    }
   ],
   "source": [
    "Timing[Integrate[(x^(-1/2) - 1)/Log[x], {x, 0, 1}]]"
   ]
  },
  {
   "cell_type": "markdown",
   "metadata": {},
   "source": [
    "### The Fundamental Theorem of Calculus to Help\n",
    "Above, we were able to see that $I(0) = 0$ which implied $C=0$. As we said, computers generally do not \"see\" that. With the help of Deep Learning you can push things further but that is another story. \n",
    "\n",
    "We can get rid of the integration constant by focusing on the well known relationship from calculus (the constants cancel out)\n",
    "\n",
    "$$\\int_a^b f(t)\\,\\mathrm{d}t = F(b) - F(a)$$\n",
    "\n",
    "Then we are looking for\n",
    "\n",
    "$$\\int_a^t I'(t)\\,\\mathrm{d}t = I(t) - I(a)$$\n",
    "\n",
    "such that $I(a)$ vanishes.\n",
    "\n",
    "$$I(a) = \\ln(a+1) = 0 \\Leftrightarrow a=0 $$\n",
    "\n",
    "which does correspond to $I(0) = 0$ from above. \n",
    "\n",
    "That is why we said that we cheated in the code: we used `I2 = integrate(dI, (t, 0, 2))` meaning $I(2) = \\int_0^2 I'(t)\\,\\mathrm{d}t$, even though we did not know the lower limit back then."
   ]
  },
  {
   "cell_type": "markdown",
   "metadata": {},
   "source": [
    "### Using Sympy Solvers\n",
    "From a practical point of view it means that in our simple code we need to introduce one of Sympy solvers, e.g. `solve` or `solveset`. Yes, if the antiderivate in question has no roots we are \"scroot\"..."
   ]
  },
  {
   "cell_type": "code",
   "execution_count": 8,
   "metadata": {},
   "outputs": [
    {
     "data": {
      "text/latex": [
       "$\\displaystyle \\log{\\left(3 \\right)}$"
      ],
      "text/plain": [
       "log(3)"
      ]
     },
     "execution_count": 8,
     "metadata": {},
     "output_type": "execute_result"
    }
   ],
   "source": [
    "from sympy import solveset\n",
    "\n",
    "x = Symbol('x')\n",
    "t = Symbol('t', real=True, nonnegative=True)\n",
    "f = (x**t-1)/ln(x)\n",
    "\n",
    "dI = integrate(f.diff(t), (x, 0, 1))\n",
    "It = integrate(dI, t)\n",
    "\n",
    "sol = solveset(It, t) # Finding I(a) == 0\n",
    "if sol:\n",
    "    a = sol.args[0]\n",
    "    I2 = integrate(dI, (t, a, 2)) # I(2)\n",
    "else:\n",
    "    raise ValueError('The antiderivative I(t) does not have any root.')\n",
    "\n",
    "I2\n"
   ]
  },
  {
   "cell_type": "markdown",
   "metadata": {},
   "source": [
    "### Discussion\n",
    "This was a straightforward example of Feynman's integration trick, illustrating the core principle we've outlined. However, the procedure can sometimes involve taking limits instead of relying on solvers, or we may need to apply the trick more than once. Additionally, determining which part of the integral to parametrize often requires experimentation. Typically, we also need to incorporate techniques such as integration per partes (by parts), substitutions, or even various transforms.\n",
    "\n",
    "It all applies to the original integral as well. Feynman's trick helps us to obtain a simpler mathematical expression for further integration, but it is not a magic wand that allows one (or a computer) to avoid using any integration methods. Integration under the integral sign often leads to integrals that can be found in tables, but they are not necessarily the simplest ones. Then, it again depends on the capabilities of the CAS algorithms, in this case, Sympy."
   ]
  },
  {
   "cell_type": "markdown",
   "metadata": {},
   "source": [
    "$$\\int_0^\\infty \\frac{\\sin x}{x} = \\frac{\\pi}{2}$$"
   ]
  },
  {
   "cell_type": "markdown",
   "metadata": {},
   "source": [
    "Sympy can quickly solve some of these unusual integrals. This so-called Dirichlet integral is typically solved using the Laplace transform and/or Feynman's trick. Sympy computes it in an instant &mdash; in a few miliseconds!"
   ]
  },
  {
   "cell_type": "code",
   "execution_count": 9,
   "metadata": {},
   "outputs": [
    {
     "data": {
      "text/latex": [
       "$\\displaystyle \\frac{\\pi}{2}$"
      ],
      "text/plain": [
       "pi/2"
      ]
     },
     "execution_count": 9,
     "metadata": {},
     "output_type": "execute_result"
    }
   ],
   "source": [
    "from sympy import sin, oo\n",
    "\n",
    "integrate(sin(x)/x, (x, 0, oo))"
   ]
  },
  {
   "cell_type": "code",
   "execution_count": 10,
   "metadata": {},
   "outputs": [
    {
     "name": "stdout",
     "output_type": "stream",
     "text": [
      "4.89 ms ± 135 µs per loop (mean ± std. dev. of 7 runs, 100 loops each)\n"
     ]
    }
   ],
   "source": [
    "%%timeit\n",
    "integrate(sin(x)/x, (x, 0, oo))"
   ]
  },
  {
   "cell_type": "markdown",
   "metadata": {},
   "source": [
    "And let's look at another integral with a beautiful result &mdash; again, it can be solved using Feynman's trick, but &mdash; surprisingly &mdash; Sympy calculates it quickly on its own."
   ]
  },
  {
   "cell_type": "markdown",
   "metadata": {},
   "source": [
    "$$\\int_{-\\infty}^\\infty \\frac{\\cos x}{x^2+1}\\,\\mathrm{d}x=\\frac{\\pi}{e}$$"
   ]
  },
  {
   "cell_type": "code",
   "execution_count": 11,
   "metadata": {},
   "outputs": [
    {
     "data": {
      "text/latex": [
       "$\\displaystyle \\frac{\\pi}{e}$"
      ],
      "text/plain": [
       "pi*exp(-1)"
      ]
     },
     "execution_count": 11,
     "metadata": {},
     "output_type": "execute_result"
    }
   ],
   "source": [
    "from sympy import cos\n",
    "\n",
    "integrate(cos(x)/(x**2 + 1), (x, -oo, oo)).simplify()"
   ]
  },
  {
   "cell_type": "code",
   "execution_count": 12,
   "metadata": {},
   "outputs": [
    {
     "name": "stdout",
     "output_type": "stream",
     "text": [
      "150 ms ± 11.2 ms per loop (mean ± std. dev. of 7 runs, 10 loops each)\n"
     ]
    }
   ],
   "source": [
    "%%timeit\n",
    "integrate(cos(x)/(x**2 + 1), (x, -oo, oo))"
   ]
  },
  {
   "cell_type": "markdown",
   "metadata": {},
   "source": [
    "On the other hand, let's examine a fairly simple integral, which can be solved using either Feynman's trick or by parts."
   ]
  },
  {
   "cell_type": "markdown",
   "metadata": {},
   "source": [
    "$$\\int_0^1 x^{\\frac{4}{3}} \\ln x\\,\\mathrm{d}x$$"
   ]
  },
  {
   "cell_type": "markdown",
   "metadata": {},
   "source": [
    "We'll first use Feynman's method. However, we can skip the initial step since the integrand is already in the desired form. That's because $x^t\\ln x = \\partial_t (x^t)$. In fact, we're proceeding backwards:\n",
    "\n",
    "$$I(t) := \\int_0^1 x^t \\ln x\\,\\mathrm{d}x = \\int_0^1 \\frac{\\partial}{\\partial t}x^t\\,\\mathrm{d}x=\\frac{\\mathrm{d}}{\\mathrm{d}t}\\int_0^1 x^t\\,\\mathrm{d}x,$$\n",
    "$$I(t) = \\frac{\\mathrm{d}}{\\mathrm{d}t} \\left[\\frac{x^{t+1}}{t+1}\\right]_0^1 = \\frac{\\mathrm{d}}{\\mathrm{d}t}\\left(\\frac{1}{t+1}\\right) \\Rightarrow$$\n",
    "$$\\boxed{I(t) = -\\frac{1}{(t+1)^2},\\,\\, t\\gt-1.} $$\n",
    "$$\\int_0^1 x^{\\frac{4}{3}} \\ln x\\,\\mathrm{d}x = I\\left(\\frac{4}{3}\\right) = -\\frac{9}{49}.$$"
   ]
  },
  {
   "cell_type": "markdown",
   "metadata": {},
   "source": [
    "As you can see, this integral can essentially be calculated in a single line. That is true even for per partes (by parts) method: $v'=x^{4/3} \\Rightarrow v = 3/7\\,x^{7/3}$ and $u = \\ln x \\Rightarrow u' = 1/x$.\n",
    "\n",
    "$$\\int_0^1 x^{\\frac{4}{3}} \\ln x\\,\\mathrm{d}x = \\left[\\frac{3}{7}x^{7/3}\\ln x\\right]_0^1 - \\frac{3}{7}\\int_0^1\\frac{x^{7/3}}{x}\\mathrm{d}x = $$\n",
    "$$ = 0 - \\frac{3}{7}\\int_0^1 x^{4/3}\\mathrm{d}x = -\\frac{3}{7}\\cdot\\frac{3}{7}\\left[x^{7/3}\\right]_0^1 = -\\frac{9}{49}.$$"
   ]
  },
  {
   "cell_type": "markdown",
   "metadata": {},
   "source": [
    "Even though this integral belongs among one-liners, Sympy struggles with it &mdash; and big time:"
   ]
  },
  {
   "cell_type": "code",
   "execution_count": 13,
   "metadata": {},
   "outputs": [
    {
     "data": {
      "text/latex": [
       "$\\displaystyle \\int\\limits_{0}^{1} \\begin{cases} 0 & \\text{for}\\: \\frac{1}{x} < 1 \\wedge x < 1 \\\\x^{\\frac{4}{3}} \\log{\\left(x \\right)} & \\text{for}\\: x < 0 \\vee x \\neq 1 \\\\- x^{\\frac{4}{3}} \\left({G_{3, 3}^{2, 1}\\left(\\begin{matrix} - \\frac{7}{3} & 1, 1 \\\\0, 0 & - \\frac{7}{3} \\end{matrix} \\middle| {x} \\right)} - {G_{3, 3}^{0, 3}\\left(\\begin{matrix} - \\frac{7}{3}, 1, 1 &  \\\\ & - \\frac{7}{3}, 0, 0 \\end{matrix} \\middle| {x} \\right)}\\right) & \\text{otherwise} \\end{cases}\\, dx$"
      ],
      "text/plain": [
       "Integral(Piecewise((0, (x < 1) & (1/x < 1)), (x**(4/3)*log(x), (x < 0) | Ne(x, 1)), (-x**(4/3)*(meijerg(((-7/3,), (1, 1)), ((0, 0), (-7/3,)), x) - meijerg(((-7/3, 1, 1), ()), ((), (-7/3, 0, 0)), x)), True)), (x, 0, 1))"
      ]
     },
     "execution_count": 13,
     "metadata": {},
     "output_type": "execute_result"
    }
   ],
   "source": [
    "from sympy import Rational\n",
    "x = Symbol('x')\n",
    "integrate(x**Rational(4, 3)*ln(x), (x, 0, 1)).simplify()"
   ]
  },
  {
   "cell_type": "markdown",
   "metadata": {},
   "source": [
    "We used `Rational(4, 3)` as a fraction 4/3 would make Sympy think of the exponent as a float and an error would be rised (`PolynomialError: RisingFactorial(_t + 3.33333333333333, 1.0) contains an element of the set of generators.`)"
   ]
  },
  {
   "cell_type": "markdown",
   "metadata": {},
   "source": [
    "In any case, Sympy returned a rather wild result, which isn't correct and isn't a result either. However, it's interesting to note that when we input numbers into Rational such that their ratio is a natural number, the computation proceeds without any issues."
   ]
  },
  {
   "cell_type": "code",
   "execution_count": 14,
   "metadata": {},
   "outputs": [
    {
     "data": {
      "text/latex": [
       "$\\displaystyle - \\frac{1}{9}$"
      ],
      "text/plain": [
       "-1/9"
      ]
     },
     "execution_count": 14,
     "metadata": {},
     "output_type": "execute_result"
    }
   ],
   "source": [
    "integrate(x**Rational(4, 2)*ln(x), (x, 0, 1))"
   ]
  },
  {
   "cell_type": "markdown",
   "metadata": {},
   "source": [
    "This agrees with our formula $I(t) = -1/(t+1)^2$, $I(2) = - 1/3^2 = -1/9$. This simply seems to be some kind of bug in Sympy and should be addressed. Update: [I reported the bug](https://github.com/sympy/sympy/issues/26930) and it is going to be fixed in the upcoming release (my guess is Sympy 1.13.2)."
   ]
  },
  {
   "cell_type": "markdown",
   "metadata": {},
   "source": [
    "### If you want a really fast computation...\n",
    "use numerical integration. Symbolic results in mathematics are always beautiful, as seen in the example above, where integration gave us $\\pi/e$. However, in practical applications, we often need specific numerical values. In such cases, it's far more appropriate to opt for numerical integration, which can handle a much broader range of integrals (including those that are analytically unsolvable or very difficult to solve) and can compute them very quickly.\n",
    "\n",
    "Sympy itself has only one external dependency—mpmath. And we can use this library for numerical integration. For example, our integral can be computed like this:"
   ]
  },
  {
   "cell_type": "code",
   "execution_count": 15,
   "metadata": {},
   "outputs": [
    {
     "name": "stdout",
     "output_type": "stream",
     "text": [
      "1.09861228866811\n"
     ]
    }
   ],
   "source": [
    "from mpmath import mp\n",
    "f = lambda x: (x**2-1)/mp.log(x)\n",
    "int_f = mp.quad(f, [0, 1])\n",
    "print(int_f)"
   ]
  },
  {
   "cell_type": "markdown",
   "metadata": {},
   "source": [
    "If you're using Sympy, it's quite likely that you're also familiar with Numpy and Scipy. With these libraries, numerical integration is even faster:"
   ]
  },
  {
   "cell_type": "code",
   "execution_count": 37,
   "metadata": {},
   "outputs": [
    {
     "data": {
      "text/plain": [
       "(1.0986122886682985, 5.4702065099832e-10)"
      ]
     },
     "execution_count": 37,
     "metadata": {},
     "output_type": "execute_result"
    }
   ],
   "source": [
    "import numpy as np\n",
    "from scipy.integrate import quad\n",
    "\n",
    "f = lambda x: (x**2-1)/np.log(x)\n",
    "int_f = quad(f , 0, 1)\n",
    "int_f # Second member of the tuple refers to an absolute error estimate"
   ]
  },
  {
   "cell_type": "code",
   "execution_count": 17,
   "metadata": {},
   "outputs": [
    {
     "name": "stdout",
     "output_type": "stream",
     "text": [
      "531 µs ± 28.9 µs per loop (mean ± std. dev. of 7 runs, 1,000 loops each)\n"
     ]
    }
   ],
   "source": [
    "%%timeit\n",
    "int_f = quad(f, 0, 1)"
   ]
  },
  {
   "cell_type": "markdown",
   "metadata": {},
   "source": [
    "Let's compare the value of the integral obtained using the numerical method with the numerical value of \n",
    "$\\log 3$:"
   ]
  },
  {
   "cell_type": "code",
   "execution_count": 18,
   "metadata": {},
   "outputs": [
    {
     "data": {
      "text/plain": [
       "(1.0986122886682985, 1.0986122886681098)"
      ]
     },
     "execution_count": 18,
     "metadata": {},
     "output_type": "execute_result"
    }
   ],
   "source": [
    "int_f[0], np.log(3)"
   ]
  },
  {
   "cell_type": "markdown",
   "metadata": {},
   "source": [
    "From seconds to microseconds &mdash; not bad!"
   ]
  },
  {
   "cell_type": "markdown",
   "metadata": {},
   "source": [
    "| Numerical                 | Feynman               | Sympy alg.      |\n",
    "| ------------------------- | --------------------- | --------------- |\n",
    "| $O(100\\, \\mathrm{\\mu s})$ | $O(10\\, \\mathrm{ms})$ | $O(\\mathrm{s})$ |"
   ]
  }
 ],
 "metadata": {
  "kernelspec": {
   "display_name": "Python 3 (ipykernel)",
   "language": "python",
   "name": "python3"
  },
  "language_info": {
   "codemirror_mode": {
    "name": "ipython",
    "version": 3
   },
   "file_extension": ".py",
   "mimetype": "text/x-python",
   "name": "python",
   "nbconvert_exporter": "python",
   "pygments_lexer": "ipython3",
   "version": "3.11.1"
  }
 },
 "nbformat": 4,
 "nbformat_minor": 4
}
