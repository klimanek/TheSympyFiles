{
 "cells": [
  {
   "cell_type": "markdown",
   "id": "a59d027f-efeb-4e58-8acb-49da2a7b8def",
   "metadata": {},
   "source": [
    "**Expectation:**\n",
    "\n",
    "$$\\int_0^1 x^t\\,\\mathrm{d}x = \\frac{1}{t+1},\\, t\\gt -1.$$\n",
    "\n",
    "**Sympy Result:**\n",
    "\n",
    "$$\\int_0^1 x^t\\,\\mathrm{d}x = \\begin{cases} - \\frac{0^{t + 1}}{t + 1} + \\frac{1}{t + 1} & \\text{for}\\: t > -\\infty \\wedge t < \\infty \\wedge t \\neq -1 \\\\\\infty & \\text{otherwise} \\end{cases}$$"
   ]
  },
  {
   "cell_type": "markdown",
   "id": "4e7b6b2a-f175-4489-834a-19769fc2438d",
   "metadata": {},
   "source": [
    "### 1. Unrestricted $t$\n",
    "\n",
    "* A wrong result.\n",
    "* A wild condition returned."
   ]
  },
  {
   "cell_type": "code",
   "execution_count": 1,
   "id": "2dd015a9-a4ae-4119-b6b8-10fab22279b4",
   "metadata": {},
   "outputs": [
    {
     "name": "stdout",
     "output_type": "stream",
     "text": [
      "Piecewise((-0**(t + 1)/(t + 1) + 1/(t + 1), (t > -oo) & (t < oo) & Ne(t, -1)), (oo, True))\n"
     ]
    }
   ],
   "source": [
    "from sympy import Symbol, integrate\n",
    "\n",
    "x = Symbol('x')\n",
    "t = Symbol('t')\n",
    "f = x**t\n",
    "\n",
    "I = integrate(f, (x, 0, 1))\n",
    "print(I)"
   ]
  },
  {
   "cell_type": "markdown",
   "id": "70053530-c5c1-4695-b751-30a57502adaf",
   "metadata": {},
   "source": [
    "### 2. $t$ is `real`\n",
    "* A wrong result.\n",
    "* A more reasonable condition returned."
   ]
  },
  {
   "cell_type": "code",
   "execution_count": 2,
   "id": "e91bc144-9e0f-4cf4-b0f9-e9f4bf9a521e",
   "metadata": {},
   "outputs": [
    {
     "name": "stdout",
     "output_type": "stream",
     "text": [
      "Piecewise((-0**(t + 1)/(t + 1) + 1/(t + 1), Ne(t, -1)), (oo, True))\n"
     ]
    },
    {
     "data": {
      "text/latex": [
       "$\\displaystyle \\begin{cases} - \\frac{0^{t + 1}}{t + 1} + \\frac{1}{t + 1} & \\text{for}\\: t \\neq -1 \\\\\\infty & \\text{otherwise} \\end{cases}$"
      ],
      "text/plain": [
       "Piecewise((-0**(t + 1)/(t + 1) + 1/(t + 1), Ne(t, -1)), (oo, True))"
      ]
     },
     "execution_count": 2,
     "metadata": {},
     "output_type": "execute_result"
    }
   ],
   "source": [
    "t = Symbol('t', real=True)\n",
    "f = x**t\n",
    "\n",
    "I = integrate(f, (x, 0, 1))\n",
    "print(I)\n",
    "I"
   ]
  },
  {
   "cell_type": "markdown",
   "id": "7574c965-f1aa-4f54-882d-009f2fbbf5b8",
   "metadata": {},
   "source": [
    "### 3. $t$ set to `nonnegative`\n",
    "* A correct result returned\n",
    "* Condition missing"
   ]
  },
  {
   "cell_type": "code",
   "execution_count": 3,
   "id": "28c8968a-0004-424e-9518-13f6d529d9c7",
   "metadata": {},
   "outputs": [
    {
     "name": "stdout",
     "output_type": "stream",
     "text": [
      "1/(t + 1)\n"
     ]
    }
   ],
   "source": [
    "t = Symbol('t', real=True, nonnegative=True)\n",
    "f = x**t\n",
    "\n",
    "I = integrate(f, (x, 0, 1))\n",
    "print(I)"
   ]
  },
  {
   "cell_type": "markdown",
   "id": "7d112fed-5e25-427a-9264-2d6412b21a35",
   "metadata": {},
   "source": [
    "Omits $t\\in(-1, 0)$ and condition is missing altogether."
   ]
  },
  {
   "cell_type": "markdown",
   "id": "48f62e95-1727-4ae3-838c-0e958f2e7428",
   "metadata": {},
   "source": [
    "### 4. $0^t$ should be treated\n",
    "\n",
    "$$\\begin{equation}\n",
    "h(t) := -\\frac{0^{t+1}}{t+1} = \n",
    "\\begin{cases}\n",
    "    0 & t\\gt -1\\\\ \n",
    "    \\text{NaN} & t\\leq -1 \\end\n",
    "{cases}\n",
    "\\end{equation}$$\n",
    "\n",
    "In Sympy context, we may write\n",
    "\n",
    "$$\\begin{equation}\n",
    "h(t) = \n",
    "\\begin{cases}\n",
    "    0 & \\quad t \\gt -1 \\\\\n",
    "    \\infty & \\quad t \\leq -1\n",
    "\\end{cases}\n",
    "\\end{equation}$$\n",
    "\n",
    "since, in Sympy, $\\lim_{x\\to 0} 1/x \\equiv \\infty = \\lim_{x\\to 0^+} 1/x \\neq \\lim_{x\\to 0^-} 1/x = -\\infty$."
   ]
  },
  {
   "cell_type": "markdown",
   "id": "02cf848f-013e-4b0e-9196-d86cc3f2f582",
   "metadata": {},
   "source": [
    "#### 4.1 Continuous domain \n",
    "\n",
    "* Expected: $(-1, \\infty)$."
   ]
  },
  {
   "cell_type": "code",
   "execution_count": 4,
   "id": "c9e1b935-57a8-490d-b52c-7193166cdfe5",
   "metadata": {},
   "outputs": [
    {
     "name": "stdout",
     "output_type": "stream",
     "text": [
      "Union(Interval.open(-oo, -1), Interval.open(-1, oo))\n"
     ]
    },
    {
     "data": {
      "text/latex": [
       "$\\displaystyle \\left(-\\infty, -1\\right) \\cup \\left(-1, \\infty\\right)$"
      ],
      "text/plain": [
       "Union(Interval.open(-oo, -1), Interval.open(-1, oo))"
      ]
     },
     "execution_count": 4,
     "metadata": {},
     "output_type": "execute_result"
    }
   ],
   "source": [
    "from sympy import S\n",
    "from sympy.calculus.util import continuous_domain\n",
    "\n",
    "t = Symbol('t', real=True)\n",
    "h = -0**(t+1)/(t+1)\n",
    "domain = continuous_domain(h, t, S.Reals)\n",
    "\n",
    "print(domain)\n",
    "domain"
   ]
  },
  {
   "cell_type": "markdown",
   "id": "0f9d48d3-c21a-4086-a8fc-f9e024633bce",
   "metadata": {},
   "source": [
    "Compare:"
   ]
  },
  {
   "cell_type": "code",
   "execution_count": 5,
   "id": "319d7908-5c54-4ea0-a741-34c9b1f963c5",
   "metadata": {},
   "outputs": [
    {
     "data": {
      "text/latex": [
       "$\\displaystyle \\mathbb{R}$"
      ],
      "text/plain": [
       "Reals"
      ]
     },
     "execution_count": 5,
     "metadata": {},
     "output_type": "execute_result"
    }
   ],
   "source": [
    "continuous_domain(0**t, t, S.Reals) # Should be (0, oo)"
   ]
  },
  {
   "cell_type": "markdown",
   "id": "f305e990-7cbf-49a4-8d20-e96593ec8ee9",
   "metadata": {},
   "source": [
    "#### 4.2 Singularities\n",
    "\n",
    "* Uncountably many of them: $(-\\infty, -1]$.\n"
   ]
  },
  {
   "cell_type": "code",
   "execution_count": 6,
   "id": "5332c69f-841c-4f0d-b38c-6a932927787f",
   "metadata": {},
   "outputs": [
    {
     "name": "stdout",
     "output_type": "stream",
     "text": [
      "{-1}\n"
     ]
    },
    {
     "data": {
      "text/latex": [
       "$\\displaystyle \\left\\{-1\\right\\}$"
      ],
      "text/plain": [
       "{-1}"
      ]
     },
     "execution_count": 6,
     "metadata": {},
     "output_type": "execute_result"
    }
   ],
   "source": [
    "from sympy.calculus.singularities import singularities\n",
    "\n",
    "sings = singularities(h, t)\n",
    "\n",
    "print(sings)\n",
    "sings"
   ]
  },
  {
   "cell_type": "code",
   "execution_count": 7,
   "id": "60c9fd13-8476-4451-a3fd-971f9fea3426",
   "metadata": {},
   "outputs": [
    {
     "data": {
      "text/latex": [
       "$\\displaystyle \\emptyset$"
      ],
      "text/plain": [
       "EmptySet"
      ]
     },
     "execution_count": 7,
     "metadata": {},
     "output_type": "execute_result"
    }
   ],
   "source": [
    "singularities(0**t, t)"
   ]
  },
  {
   "cell_type": "markdown",
   "id": "7aeafb8e-21df-4afd-89ab-a8ba18c130ba",
   "metadata": {},
   "source": [
    "#### 4.3 A Limit\n",
    "$$\\lim_{t\\to\\infty} 0^t = 0$$ \n",
    "\n",
    "but in Sympy, you get very weird result:"
   ]
  },
  {
   "cell_type": "code",
   "execution_count": 1,
   "id": "5930b649-f3e1-4766-ab81-99d8cd71576c",
   "metadata": {},
   "outputs": [
    {
     "data": {
      "text/latex": [
       "$\\displaystyle e^{\\lim_{t \\to \\infty}\\left(\\tilde{\\infty} t\\right)}$"
      ],
      "text/plain": [
       "exp(Limit(zoo*t, t, oo, dir='-'))"
      ]
     },
     "execution_count": 1,
     "metadata": {},
     "output_type": "execute_result"
    }
   ],
   "source": [
    "from sympy import S, Pow, limit, oo, Symbol\n",
    "t = Symbol('t', real=True)\n",
    "limit(Pow(S.Zero, t), t, oo)"
   ]
  },
  {
   "cell_type": "markdown",
   "id": "e44870d7-ead1-4749-a2c4-73bd3435681d",
   "metadata": {},
   "source": [
    "#### 4.4 Function range\n",
    "It's obvious that $0^t$ can be only equal to zero. Yet:"
   ]
  },
  {
   "cell_type": "code",
   "execution_count": 3,
   "id": "31170a6f-48d0-4ff6-abd0-e317352ed4a0",
   "metadata": {},
   "outputs": [
    {
     "data": {
      "text/latex": [
       "$\\displaystyle \\left(\\min\\left(e^{\\lim_{t \\to \\infty}\\left(\\tilde{\\infty} t\\right)}, \\lim_{t \\to -\\infty} 0^{t}\\right), \\max\\left(e^{\\lim_{t \\to \\infty}\\left(\\tilde{\\infty} t\\right)}, \\lim_{t \\to -\\infty} 0^{t}\\right)\\right)$"
      ],
      "text/plain": [
       "Interval.open(Min(exp(Limit(zoo*t, t, oo, dir='-')), Limit(0**t, t, -oo, dir='+')), Max(exp(Limit(zoo*t, t, oo, dir='-')), Limit(0**t, t, -oo, dir='+')))"
      ]
     },
     "execution_count": 3,
     "metadata": {},
     "output_type": "execute_result"
    }
   ],
   "source": [
    "from sympy.calculus.util import function_range\n",
    "function_range(0**t, t, S.Reals)"
   ]
  },
  {
   "cell_type": "markdown",
   "id": "713dbaa4-283c-4a05-8a8b-1c1c76f21c58",
   "metadata": {},
   "source": [
    "And this particular result for $f(t) = 2^t$ is even funnier:"
   ]
  },
  {
   "cell_type": "code",
   "execution_count": 4,
   "id": "152f2fc7-f2a8-4f0f-a3d9-fffc1870627f",
   "metadata": {},
   "outputs": [
    {
     "data": {
      "text/latex": [
       "$\\displaystyle \\emptyset$"
      ],
      "text/plain": [
       "EmptySet"
      ]
     },
     "execution_count": 4,
     "metadata": {},
     "output_type": "execute_result"
    }
   ],
   "source": [
    "t = Symbol('t')\n",
    "function_range(2**t, t, S.Reals)"
   ]
  },
  {
   "cell_type": "code",
   "execution_count": null,
   "id": "425f59ad-1774-45ac-8671-512aba7ce5eb",
   "metadata": {},
   "outputs": [],
   "source": []
  }
 ],
 "metadata": {
  "kernelspec": {
   "display_name": "Python 3 (ipykernel)",
   "language": "python",
   "name": "python3"
  },
  "language_info": {
   "codemirror_mode": {
    "name": "ipython",
    "version": 3
   },
   "file_extension": ".py",
   "mimetype": "text/x-python",
   "name": "python",
   "nbconvert_exporter": "python",
   "pygments_lexer": "ipython3",
   "version": "3.11.1"
  }
 },
 "nbformat": 4,
 "nbformat_minor": 5
}
