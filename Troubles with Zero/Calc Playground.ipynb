{
 "cells": [
  {
   "cell_type": "code",
   "execution_count": 1,
   "id": "ff763baf-b5d6-414f-bec3-7da95794cdc8",
   "metadata": {},
   "outputs": [],
   "source": [
    "from sympy import integrate, Symbol, Piecewise, ln, S, limit, oo"
   ]
  },
  {
   "cell_type": "code",
   "execution_count": 2,
   "id": "388397e3-815a-403a-af49-ab4d370989d9",
   "metadata": {},
   "outputs": [
    {
     "data": {
      "text/latex": [
       "$\\displaystyle \\begin{cases} \\frac{x^{t + 1}}{t + 1} & \\text{for}\\: t \\neq -1 \\\\\\log{\\left(x \\right)} & \\text{otherwise} \\end{cases}$"
      ],
      "text/plain": [
       "Piecewise((x**(t + 1)/(t + 1), Ne(t, -1)), (log(x), True))"
      ]
     },
     "execution_count": 2,
     "metadata": {},
     "output_type": "execute_result"
    }
   ],
   "source": [
    "x = Symbol('x', real=True)\n",
    "t = Symbol('t', real=True)\n",
    "f = x**t\n",
    "\n",
    "integrate(f, x)"
   ]
  },
  {
   "cell_type": "code",
   "execution_count": 22,
   "id": "4f2ef4cf-3bfb-4ddb-8670-ce41d736a593",
   "metadata": {},
   "outputs": [
    {
     "data": {
      "text/latex": [
       "$\\displaystyle \\begin{cases} - \\frac{0^{t + 1}}{t + 1} + \\frac{1}{t + 1} & \\text{for}\\: t \\neq -1 \\\\\\infty & \\text{otherwise} \\end{cases}$"
      ],
      "text/plain": [
       "Piecewise((-0**(t + 1)/(t + 1) + 1/(t + 1), Ne(t, -1)), (oo, True))"
      ]
     },
     "execution_count": 22,
     "metadata": {},
     "output_type": "execute_result"
    }
   ],
   "source": [
    "integrate(f, (x, 0, 1))"
   ]
  },
  {
   "cell_type": "code",
   "execution_count": 23,
   "id": "03f38b98-0071-4858-a9c3-18433eb123c0",
   "metadata": {},
   "outputs": [
    {
     "data": {
      "text/latex": [
       "$\\displaystyle \\begin{cases} - \\frac{\\left(-1\\right)^{t + 1}}{t + 1} + \\frac{1}{t + 1} & \\text{for}\\: t \\neq -1 \\\\\\text{NaN} & \\text{otherwise} \\end{cases}$"
      ],
      "text/plain": [
       "Piecewise((-(-1)**(t + 1)/(t + 1) + 1/(t + 1), Ne(t, -1)), (nan, True))"
      ]
     },
     "execution_count": 23,
     "metadata": {},
     "output_type": "execute_result"
    }
   ],
   "source": [
    "I = integrate(f, (x, -1, 1))\n",
    "I"
   ]
  },
  {
   "cell_type": "code",
   "execution_count": 4,
   "id": "3756034e-40f0-4ba3-a16e-3b6f4a33c7a7",
   "metadata": {},
   "outputs": [
    {
     "data": {
      "text/latex": [
       "$\\displaystyle \\frac{2}{3}$"
      ],
      "text/plain": [
       "2/3"
      ]
     },
     "execution_count": 4,
     "metadata": {},
     "output_type": "execute_result"
    }
   ],
   "source": [
    "I.subs(t, 2)"
   ]
  },
  {
   "cell_type": "code",
   "execution_count": 5,
   "id": "de4aa7be-3009-4d27-9edf-71fd2c703c4f",
   "metadata": {},
   "outputs": [
    {
     "data": {
      "text/latex": [
       "$\\displaystyle -2$"
      ],
      "text/plain": [
       "-2"
      ]
     },
     "execution_count": 5,
     "metadata": {},
     "output_type": "execute_result"
    }
   ],
   "source": [
    "I.subs(t, -2)"
   ]
  },
  {
   "cell_type": "code",
   "execution_count": 6,
   "id": "99cfd719-f356-4fee-8151-6b5b13c013c0",
   "metadata": {},
   "outputs": [
    {
     "data": {
      "text/latex": [
       "$\\displaystyle \\frac{2}{3}$"
      ],
      "text/plain": [
       "2/3"
      ]
     },
     "execution_count": 6,
     "metadata": {},
     "output_type": "execute_result"
    }
   ],
   "source": [
    "integrate(x**-2, (x, -3, -1))"
   ]
  },
  {
   "cell_type": "code",
   "execution_count": 7,
   "id": "c7c7613a-02a9-459e-bcb7-cc17e5f0be43",
   "metadata": {},
   "outputs": [
    {
     "data": {
      "text/latex": [
       "$\\displaystyle -\\infty$"
      ],
      "text/plain": [
       "-oo"
      ]
     },
     "execution_count": 7,
     "metadata": {},
     "output_type": "execute_result"
    }
   ],
   "source": [
    "limit(ln(x), x, 0, '+')"
   ]
  },
  {
   "cell_type": "code",
   "execution_count": 8,
   "id": "e62521ed-ca97-4432-b384-09926076991a",
   "metadata": {},
   "outputs": [
    {
     "data": {
      "text/latex": [
       "$\\displaystyle \\left(0, \\infty\\right)$"
      ],
      "text/plain": [
       "Interval.open(0, oo)"
      ]
     },
     "execution_count": 8,
     "metadata": {},
     "output_type": "execute_result"
    }
   ],
   "source": [
    "from sympy.calculus.util import continuous_domain\n",
    "continuous_domain(ln(x), x, S.Reals)"
   ]
  },
  {
   "cell_type": "code",
   "execution_count": 9,
   "id": "9efedc5c-b82a-4007-981d-7e8cfdd72751",
   "metadata": {},
   "outputs": [],
   "source": [
    "t = Symbol('t', real=True)\n",
    "I = Piecewise((1/(t+1), t > -1), (oo, True))"
   ]
  },
  {
   "cell_type": "code",
   "execution_count": 10,
   "id": "66c61663-480a-4823-a797-5abf83e0f2fe",
   "metadata": {},
   "outputs": [
    {
     "data": {
      "text/latex": [
       "$\\displaystyle \\infty$"
      ],
      "text/plain": [
       "oo"
      ]
     },
     "execution_count": 10,
     "metadata": {},
     "output_type": "execute_result"
    }
   ],
   "source": [
    "integrate(x**-2, (x, -1, 1))"
   ]
  },
  {
   "cell_type": "code",
   "execution_count": 16,
   "id": "70920ef5-932b-4a31-9d6d-2f88631c0e2d",
   "metadata": {},
   "outputs": [
    {
     "data": {
      "text/latex": [
       "$\\displaystyle \\int\\limits_{0}^{1} x^{\\frac{3}{2}} \\left(x - 0.5\\right)\\, dx$"
      ],
      "text/plain": [
       "Integral(x**(3/2)*(x - 0.5), (x, 0, 1))"
      ]
     },
     "execution_count": 16,
     "metadata": {},
     "output_type": "execute_result"
    }
   ],
   "source": [
    "from sympy import Integral, Rational\n",
    "Integral(x**(Rational(3, 2)) * (x-1/2), (x, 0, 1))"
   ]
  },
  {
   "cell_type": "code",
   "execution_count": 21,
   "id": "e3412a44-f77b-4bf0-a283-1b324c69f961",
   "metadata": {},
   "outputs": [
    {
     "data": {
      "text/latex": [
       "$\\displaystyle 0.0857142857142857$"
      ],
      "text/plain": [
       "0.0857142857142857"
      ]
     },
     "execution_count": 21,
     "metadata": {},
     "output_type": "execute_result"
    }
   ],
   "source": [
    "I = integrate(x**(Rational(3, 2)) * (x-1/2), (x,0,1))\n",
    "I"
   ]
  },
  {
   "cell_type": "code",
   "execution_count": 20,
   "id": "80a4dfae-cbf7-4cb3-8e9b-a848a6cc26a7",
   "metadata": {},
   "outputs": [
    {
     "data": {
      "text/latex": [
       "$\\displaystyle \\frac{3}{35}$"
      ],
      "text/plain": [
       "3/35"
      ]
     },
     "execution_count": 20,
     "metadata": {},
     "output_type": "execute_result"
    }
   ],
   "source": [
    "integrate(x**Rational(3, 2) * (x-Rational(1, 2)), (x,0,1))"
   ]
  },
  {
   "cell_type": "code",
   "execution_count": null,
   "id": "0e7b80aa-7bfc-4b84-9fa9-0846d49088a0",
   "metadata": {},
   "outputs": [],
   "source": []
  }
 ],
 "metadata": {
  "kernelspec": {
   "display_name": "Python 3 (ipykernel)",
   "language": "python",
   "name": "python3"
  },
  "language_info": {
   "codemirror_mode": {
    "name": "ipython",
    "version": 3
   },
   "file_extension": ".py",
   "mimetype": "text/x-python",
   "name": "python",
   "nbconvert_exporter": "python",
   "pygments_lexer": "ipython3",
   "version": "3.11.1"
  }
 },
 "nbformat": 4,
 "nbformat_minor": 5
}
