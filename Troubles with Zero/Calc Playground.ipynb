{
 "cells": [
  {
   "cell_type": "code",
   "execution_count": 28,
   "id": "ff763baf-b5d6-414f-bec3-7da95794cdc8",
   "metadata": {},
   "outputs": [],
   "source": [
    "from sympy import integrate, Symbol, Piecewise, ln, S, limit, oo"
   ]
  },
  {
   "cell_type": "code",
   "execution_count": 29,
   "id": "388397e3-815a-403a-af49-ab4d370989d9",
   "metadata": {},
   "outputs": [
    {
     "data": {
      "text/latex": [
       "$\\displaystyle \\log{\\left(x \\right)}$"
      ],
      "text/plain": [
       "log(x)"
      ]
     },
     "execution_count": 29,
     "metadata": {},
     "output_type": "execute_result"
    }
   ],
   "source": [
    "x = Symbol('x', real=True)\n",
    "f = x**(-1)\n",
    "\n",
    "integrate(f, x)"
   ]
  },
  {
   "cell_type": "code",
   "execution_count": 30,
   "id": "03f38b98-0071-4858-a9c3-18433eb123c0",
   "metadata": {},
   "outputs": [
    {
     "data": {
      "text/latex": [
       "$\\displaystyle \\text{NaN}$"
      ],
      "text/plain": [
       "nan"
      ]
     },
     "execution_count": 30,
     "metadata": {},
     "output_type": "execute_result"
    }
   ],
   "source": [
    "integrate(f, (x, -1, 1))"
   ]
  },
  {
   "cell_type": "code",
   "execution_count": 31,
   "id": "e62521ed-ca97-4432-b384-09926076991a",
   "metadata": {},
   "outputs": [
    {
     "data": {
      "text/latex": [
       "$\\displaystyle \\left(0, \\infty\\right)$"
      ],
      "text/plain": [
       "Interval.open(0, oo)"
      ]
     },
     "execution_count": 31,
     "metadata": {},
     "output_type": "execute_result"
    }
   ],
   "source": [
    "from sympy.calculus.util import continuous_domain\n",
    "continuous_domain(ln(x), x, S.Reals)"
   ]
  },
  {
   "cell_type": "code",
   "execution_count": 32,
   "id": "c7c7613a-02a9-459e-bcb7-cc17e5f0be43",
   "metadata": {},
   "outputs": [
    {
     "data": {
      "text/latex": [
       "$\\displaystyle -\\infty$"
      ],
      "text/plain": [
       "-oo"
      ]
     },
     "execution_count": 32,
     "metadata": {},
     "output_type": "execute_result"
    }
   ],
   "source": [
    "limit(ln(x), x, 0, '+')"
   ]
  },
  {
   "cell_type": "code",
   "execution_count": 36,
   "id": "9efedc5c-b82a-4007-981d-7e8cfdd72751",
   "metadata": {},
   "outputs": [],
   "source": [
    "t = Symbol('t', real=True)\n",
    "I = Piecewise((1/(t+1), t > -1), (oo, True))"
   ]
  },
  {
   "cell_type": "code",
   "execution_count": 37,
   "id": "3756034e-40f0-4ba3-a16e-3b6f4a33c7a7",
   "metadata": {},
   "outputs": [
    {
     "data": {
      "text/latex": [
       "$\\displaystyle \\frac{1}{3}$"
      ],
      "text/plain": [
       "1/3"
      ]
     },
     "execution_count": 37,
     "metadata": {},
     "output_type": "execute_result"
    }
   ],
   "source": [
    "I.subs(t, 2)"
   ]
  },
  {
   "cell_type": "code",
   "execution_count": 39,
   "id": "de4aa7be-3009-4d27-9edf-71fd2c703c4f",
   "metadata": {},
   "outputs": [
    {
     "data": {
      "text/latex": [
       "$\\displaystyle \\infty$"
      ],
      "text/plain": [
       "oo"
      ]
     },
     "execution_count": 39,
     "metadata": {},
     "output_type": "execute_result"
    }
   ],
   "source": [
    "I.subs(t, -2)"
   ]
  },
  {
   "cell_type": "code",
   "execution_count": null,
   "id": "66c61663-480a-4823-a797-5abf83e0f2fe",
   "metadata": {},
   "outputs": [],
   "source": []
  }
 ],
 "metadata": {
  "kernelspec": {
   "display_name": "Python 3 (ipykernel)",
   "language": "python",
   "name": "python3"
  },
  "language_info": {
   "codemirror_mode": {
    "name": "ipython",
    "version": 3
   },
   "file_extension": ".py",
   "mimetype": "text/x-python",
   "name": "python",
   "nbconvert_exporter": "python",
   "pygments_lexer": "ipython3",
   "version": "3.11.1"
  }
 },
 "nbformat": 4,
 "nbformat_minor": 5
}
