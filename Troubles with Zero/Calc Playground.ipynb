{
 "cells": [
  {
   "cell_type": "code",
   "execution_count": 1,
   "id": "ff763baf-b5d6-414f-bec3-7da95794cdc8",
   "metadata": {},
   "outputs": [],
   "source": [
    "from sympy import integrate, Symbol, Piecewise, ln, S, limit, oo"
   ]
  },
  {
   "cell_type": "code",
   "execution_count": 2,
   "id": "388397e3-815a-403a-af49-ab4d370989d9",
   "metadata": {},
   "outputs": [
    {
     "data": {
      "text/latex": [
       "$\\displaystyle \\begin{cases} \\frac{x^{t + 1}}{t + 1} & \\text{for}\\: t \\neq -1 \\\\\\log{\\left(x \\right)} & \\text{otherwise} \\end{cases}$"
      ],
      "text/plain": [
       "Piecewise((x**(t + 1)/(t + 1), Ne(t, -1)), (log(x), True))"
      ]
     },
     "execution_count": 2,
     "metadata": {},
     "output_type": "execute_result"
    }
   ],
   "source": [
    "x = Symbol('x', real=True)\n",
    "t = Symbol('t', real=True)\n",
    "f = x**t\n",
    "\n",
    "integrate(f, x)"
   ]
  },
  {
   "cell_type": "code",
   "execution_count": 3,
   "id": "4f2ef4cf-3bfb-4ddb-8670-ce41d736a593",
   "metadata": {},
   "outputs": [
    {
     "data": {
      "text/latex": [
       "$\\displaystyle \\begin{cases} - \\frac{0^{t + 1}}{t + 1} + \\frac{1}{t + 1} & \\text{for}\\: t \\neq -1 \\\\\\infty & \\text{otherwise} \\end{cases}$"
      ],
      "text/plain": [
       "Piecewise((-0**(t + 1)/(t + 1) + 1/(t + 1), Ne(t, -1)), (oo, True))"
      ]
     },
     "execution_count": 3,
     "metadata": {},
     "output_type": "execute_result"
    }
   ],
   "source": [
    "# Wrong\n",
    "integrate(f, (x, 0, 1))"
   ]
  },
  {
   "cell_type": "code",
   "execution_count": 4,
   "id": "03f38b98-0071-4858-a9c3-18433eb123c0",
   "metadata": {},
   "outputs": [
    {
     "data": {
      "text/latex": [
       "$\\displaystyle \\begin{cases} - \\frac{\\left(-1\\right)^{t + 1}}{t + 1} + \\frac{1}{t + 1} & \\text{for}\\: t \\neq -1 \\\\\\text{NaN} & \\text{otherwise} \\end{cases}$"
      ],
      "text/plain": [
       "Piecewise((-(-1)**(t + 1)/(t + 1) + 1/(t + 1), Ne(t, -1)), (nan, True))"
      ]
     },
     "execution_count": 4,
     "metadata": {},
     "output_type": "execute_result"
    }
   ],
   "source": [
    "# Wrong\n",
    "I = integrate(f, (x, -1, 1))\n",
    "I"
   ]
  },
  {
   "cell_type": "code",
   "execution_count": 5,
   "id": "3756034e-40f0-4ba3-a16e-3b6f4a33c7a7",
   "metadata": {},
   "outputs": [
    {
     "data": {
      "text/latex": [
       "$\\displaystyle \\frac{2}{3}$"
      ],
      "text/plain": [
       "2/3"
      ]
     },
     "execution_count": 5,
     "metadata": {},
     "output_type": "execute_result"
    }
   ],
   "source": [
    "I.subs(t, 2)"
   ]
  },
  {
   "cell_type": "code",
   "execution_count": 6,
   "id": "de4aa7be-3009-4d27-9edf-71fd2c703c4f",
   "metadata": {},
   "outputs": [
    {
     "data": {
      "text/latex": [
       "$\\displaystyle -2$"
      ],
      "text/plain": [
       "-2"
      ]
     },
     "execution_count": 6,
     "metadata": {},
     "output_type": "execute_result"
    }
   ],
   "source": [
    "# Wrong\n",
    "I.subs(t, -2)"
   ]
  },
  {
   "cell_type": "code",
   "execution_count": 7,
   "id": "99cfd719-f356-4fee-8151-6b5b13c013c0",
   "metadata": {},
   "outputs": [
    {
     "data": {
      "text/latex": [
       "$\\displaystyle \\frac{2}{3}$"
      ],
      "text/plain": [
       "2/3"
      ]
     },
     "execution_count": 7,
     "metadata": {},
     "output_type": "execute_result"
    }
   ],
   "source": [
    "integrate(x**-2, (x, -3, -1))"
   ]
  },
  {
   "cell_type": "code",
   "execution_count": 8,
   "id": "c7c7613a-02a9-459e-bcb7-cc17e5f0be43",
   "metadata": {},
   "outputs": [
    {
     "data": {
      "text/latex": [
       "$\\displaystyle -\\infty$"
      ],
      "text/plain": [
       "-oo"
      ]
     },
     "execution_count": 8,
     "metadata": {},
     "output_type": "execute_result"
    }
   ],
   "source": [
    "limit(ln(x), x, 0, '+')"
   ]
  },
  {
   "cell_type": "code",
   "execution_count": 9,
   "id": "e62521ed-ca97-4432-b384-09926076991a",
   "metadata": {},
   "outputs": [
    {
     "data": {
      "text/latex": [
       "$\\displaystyle \\left(0, \\infty\\right)$"
      ],
      "text/plain": [
       "Interval.open(0, oo)"
      ]
     },
     "execution_count": 9,
     "metadata": {},
     "output_type": "execute_result"
    }
   ],
   "source": [
    "from sympy.calculus.util import continuous_domain\n",
    "continuous_domain(ln(x), x, S.Reals)"
   ]
  },
  {
   "cell_type": "code",
   "execution_count": 10,
   "id": "9efedc5c-b82a-4007-981d-7e8cfdd72751",
   "metadata": {},
   "outputs": [],
   "source": [
    "t = Symbol('t', real=True)\n",
    "I = Piecewise((1/(t+1), t > -1), (oo, True))"
   ]
  },
  {
   "cell_type": "code",
   "execution_count": 11,
   "id": "66c61663-480a-4823-a797-5abf83e0f2fe",
   "metadata": {},
   "outputs": [
    {
     "data": {
      "text/latex": [
       "$\\displaystyle \\infty$"
      ],
      "text/plain": [
       "oo"
      ]
     },
     "execution_count": 11,
     "metadata": {},
     "output_type": "execute_result"
    }
   ],
   "source": [
    "integrate(x**-2, (x, -1, 1))"
   ]
  },
  {
   "cell_type": "code",
   "execution_count": 12,
   "id": "70920ef5-932b-4a31-9d6d-2f88631c0e2d",
   "metadata": {},
   "outputs": [
    {
     "data": {
      "text/latex": [
       "$\\displaystyle \\int\\limits_{0}^{1} x^{\\frac{3}{2}} \\left(x - 0.5\\right)\\, dx$"
      ],
      "text/plain": [
       "Integral(x**(3/2)*(x - 0.5), (x, 0, 1))"
      ]
     },
     "execution_count": 12,
     "metadata": {},
     "output_type": "execute_result"
    }
   ],
   "source": [
    "from sympy import Integral, Rational, sqrt\n",
    "Integral(x**(Rational(3, 2)) * (x-1/2), (x, 0, 1))"
   ]
  },
  {
   "cell_type": "code",
   "execution_count": 13,
   "id": "e3412a44-f77b-4bf0-a283-1b324c69f961",
   "metadata": {},
   "outputs": [
    {
     "data": {
      "text/latex": [
       "$\\displaystyle 0.0857142857142857$"
      ],
      "text/plain": [
       "0.0857142857142857"
      ]
     },
     "execution_count": 13,
     "metadata": {},
     "output_type": "execute_result"
    }
   ],
   "source": [
    "# Wrong\n",
    "I = integrate(x**(Rational(3, 2)) * (x-1/2), (x, 0, 1))\n",
    "I"
   ]
  },
  {
   "cell_type": "code",
   "execution_count": 14,
   "id": "80a4dfae-cbf7-4cb3-8e9b-a848a6cc26a7",
   "metadata": {},
   "outputs": [
    {
     "data": {
      "text/latex": [
       "$\\displaystyle \\frac{3}{35}$"
      ],
      "text/plain": [
       "3/35"
      ]
     },
     "execution_count": 14,
     "metadata": {},
     "output_type": "execute_result"
    }
   ],
   "source": [
    "integrate(x**Rational(3, 2) * (x-Rational(1, 2)), (x, 0, 1))"
   ]
  },
  {
   "cell_type": "code",
   "execution_count": 15,
   "id": "7ba4e3d2-7763-4b54-9a94-eefadc12b358",
   "metadata": {},
   "outputs": [
    {
     "data": {
      "text/latex": [
       "$\\displaystyle \\frac{3}{35}$"
      ],
      "text/plain": [
       "3/35"
      ]
     },
     "execution_count": 15,
     "metadata": {},
     "output_type": "execute_result"
    }
   ],
   "source": [
    "integrate(x**(S(3)/S(2)) * (x-S(1)/S(2)), (x,0,1))"
   ]
  },
  {
   "cell_type": "code",
   "execution_count": 16,
   "id": "0e7b80aa-7bfc-4b84-9fa9-0846d49088a0",
   "metadata": {},
   "outputs": [
    {
     "data": {
      "text/latex": [
       "$\\displaystyle \\int\\limits_{0}^{1} \\frac{1}{\\sqrt{x}}\\, dx$"
      ],
      "text/plain": [
       "Integral(1/sqrt(x), (x, 0, 1))"
      ]
     },
     "execution_count": 16,
     "metadata": {},
     "output_type": "execute_result"
    }
   ],
   "source": [
    "e = Integral(1/sqrt(x), (x, 0, 1))\n",
    "e"
   ]
  },
  {
   "cell_type": "code",
   "execution_count": 17,
   "id": "00211dbd-3e40-4567-880c-d6533e835d78",
   "metadata": {},
   "outputs": [
    {
     "data": {
      "text/latex": [
       "$\\displaystyle 2$"
      ],
      "text/plain": [
       "2"
      ]
     },
     "execution_count": 17,
     "metadata": {},
     "output_type": "execute_result"
    }
   ],
   "source": [
    "e.doit()"
   ]
  },
  {
   "cell_type": "code",
   "execution_count": 18,
   "id": "797da6fb-6054-4ed9-9edb-9454c9fb8b80",
   "metadata": {},
   "outputs": [
    {
     "data": {
      "text/latex": [
       "$\\displaystyle 0.25 x^{4} + 0.166666666666667 x^{3}$"
      ],
      "text/plain": [
       "0.25*x**4 + 0.166666666666667*x**3"
      ]
     },
     "execution_count": 18,
     "metadata": {},
     "output_type": "execute_result"
    }
   ],
   "source": [
    "# Wrong\n",
    "I = Integral(x**2*(x+1/2), x)\n",
    "I.doit()"
   ]
  },
  {
   "cell_type": "code",
   "execution_count": 19,
   "id": "d6233915-9d1f-4f4d-8e98-f0f96fbe7621",
   "metadata": {},
   "outputs": [
    {
     "data": {
      "text/latex": [
       "$\\displaystyle \\int x^{2} \\left(x + \\frac{1}{2}\\right)\\, dx$"
      ],
      "text/plain": [
       "Integral(x**2*(x + 1/2), x)"
      ]
     },
     "execution_count": 19,
     "metadata": {},
     "output_type": "execute_result"
    }
   ],
   "source": [
    "I = Integral(x**2*(x+S(1)/S(2)), x)\n",
    "I"
   ]
  },
  {
   "cell_type": "code",
   "execution_count": 20,
   "id": "c03c987f-6efa-4df8-a9a2-879fda7df977",
   "metadata": {},
   "outputs": [
    {
     "data": {
      "text/latex": [
       "$\\displaystyle \\frac{x^{4}}{4} + \\frac{x^{3}}{6}$"
      ],
      "text/plain": [
       "x**4/4 + x**3/6"
      ]
     },
     "execution_count": 20,
     "metadata": {},
     "output_type": "execute_result"
    }
   ],
   "source": [
    "I.doit()"
   ]
  },
  {
   "cell_type": "code",
   "execution_count": 21,
   "id": "bbe76505-054c-4fd1-9115-f13f501e2732",
   "metadata": {},
   "outputs": [
    {
     "data": {
      "text/latex": [
       "$\\displaystyle \\int x^{2} \\left(x + \\frac{1}{2}\\right)\\, dx$"
      ],
      "text/plain": [
       "Integral(x**2*(x + 1/2), x)"
      ]
     },
     "execution_count": 21,
     "metadata": {},
     "output_type": "execute_result"
    }
   ],
   "source": [
    "I = Integral(x**2*(x+Rational(1,2)), x)\n",
    "I"
   ]
  },
  {
   "cell_type": "code",
   "execution_count": 22,
   "id": "d8c46682-5381-4363-95a5-4afd54d235cf",
   "metadata": {},
   "outputs": [
    {
     "data": {
      "text/latex": [
       "$\\displaystyle \\frac{x^{4}}{4} + \\frac{x^{3}}{6}$"
      ],
      "text/plain": [
       "x**4/4 + x**3/6"
      ]
     },
     "execution_count": 22,
     "metadata": {},
     "output_type": "execute_result"
    }
   ],
   "source": [
    "I.doit()"
   ]
  },
  {
   "cell_type": "code",
   "execution_count": 23,
   "id": "db5a29df-f577-4883-94ab-46e1fbbe1d8a",
   "metadata": {},
   "outputs": [
    {
     "data": {
      "text/latex": [
       "$\\displaystyle \\infty$"
      ],
      "text/plain": [
       "oo"
      ]
     },
     "execution_count": 23,
     "metadata": {},
     "output_type": "execute_result"
    }
   ],
   "source": [
    "limit(-ln(x), x, 0, '+')"
   ]
  },
  {
   "cell_type": "code",
   "execution_count": 24,
   "id": "2e6ea197-ea57-44ef-a233-72aaf19259cc",
   "metadata": {},
   "outputs": [
    {
     "data": {
      "text/latex": [
       "$\\displaystyle \\begin{cases} \\frac{1}{t} & \\text{for}\\: \\left|{\\arg{\\left(t \\right)}}\\right| < \\frac{\\pi}{2} \\\\\\int\\limits_{0}^{\\infty} e^{- t x}\\, dx & \\text{otherwise} \\end{cases}$"
      ],
      "text/plain": [
       "Piecewise((1/t, Abs(arg(t)) < pi/2), (Integral(exp(-t*x), (x, 0, oo)), True))"
      ]
     },
     "execution_count": 24,
     "metadata": {},
     "output_type": "execute_result"
    }
   ],
   "source": [
    "from sympy import exp, Symbol, oo\n",
    "x = Symbol('x')\n",
    "t = Symbol('t')\n",
    "integrate(exp(-t*x), (x, 0, oo))"
   ]
  },
  {
   "cell_type": "code",
   "execution_count": 25,
   "id": "07838425-73a4-49fb-b989-f20f9ea72b9a",
   "metadata": {},
   "outputs": [
    {
     "data": {
      "text/latex": [
       "$\\displaystyle \\begin{cases} \\frac{i R^{4} r}{8 \\sqrt{- R^{2} + r^{2}}} - \\frac{i R^{4} \\operatorname{acosh}{\\left(\\frac{r}{R} \\right)}}{8} - \\frac{3 i R^{2} r^{3}}{8 \\sqrt{- R^{2} + r^{2}}} + \\frac{i r^{5}}{4 \\sqrt{- R^{2} + r^{2}}} & \\text{for}\\: \\frac{r^{2}}{R^{2}} > 1 \\\\- \\frac{R^{4} r}{8 \\sqrt{R^{2} - r^{2}}} + \\frac{R^{4} \\operatorname{asin}{\\left(\\frac{r}{R} \\right)}}{8} + \\frac{3 R^{2} r^{3}}{8 \\sqrt{R^{2} - r^{2}}} - \\frac{r^{5}}{4 \\sqrt{R^{2} - r^{2}}} & \\text{otherwise} \\end{cases}$"
      ],
      "text/plain": [
       "Piecewise((I*R**4*r/(8*sqrt(-R**2 + r**2)) - I*R**4*acosh(r/R)/8 - 3*I*R**2*r**3/(8*sqrt(-R**2 + r**2)) + I*r**5/(4*sqrt(-R**2 + r**2)), r**2/R**2 > 1), (-R**4*r/(8*sqrt(R**2 - r**2)) + R**4*asin(r/R)/8 + 3*R**2*r**3/(8*sqrt(R**2 - r**2)) - r**5/(4*sqrt(R**2 - r**2)), True))"
      ]
     },
     "execution_count": 25,
     "metadata": {},
     "output_type": "execute_result"
    }
   ],
   "source": [
    "r = Symbol('r', real=True, positive=True)\n",
    "R = Symbol('R', real=True, positive=True)\n",
    "\n",
    "I = integrate(r**2*sqrt(R**2-r**2), r)\n",
    "I"
   ]
  },
  {
   "cell_type": "code",
   "execution_count": 26,
   "id": "d3964cf3-ad05-4e46-946b-3eabe23232ac",
   "metadata": {},
   "outputs": [
    {
     "data": {
      "text/latex": [
       "$\\displaystyle - \\frac{R^{4} r}{8 \\sqrt{R^{2} - r^{2}}} + \\frac{R^{4} \\operatorname{asin}{\\left(\\frac{r}{R} \\right)}}{8} + \\frac{3 R^{2} r^{3}}{8 \\sqrt{R^{2} - r^{2}}} - \\frac{r^{5}}{4 \\sqrt{R^{2} - r^{2}}}$"
      ],
      "text/plain": [
       "-R**4*r/(8*sqrt(R**2 - r**2)) + R**4*asin(r/R)/8 + 3*R**2*r**3/(8*sqrt(R**2 - r**2)) - r**5/(4*sqrt(R**2 - r**2))"
      ]
     },
     "execution_count": 26,
     "metadata": {},
     "output_type": "execute_result"
    }
   ],
   "source": [
    "I.args[1][0]"
   ]
  },
  {
   "cell_type": "code",
   "execution_count": 27,
   "id": "155857e2-6b06-475c-95fe-af18e80242bb",
   "metadata": {},
   "outputs": [
    {
     "data": {
      "text/latex": [
       "$\\displaystyle - \\frac{R^{4} r}{8 \\sqrt{R^{2} - r^{2}}} + \\frac{R^{4} \\operatorname{asin}{\\left(\\frac{r}{R} \\right)}}{8} + \\frac{3 R^{2} r^{3}}{8 \\sqrt{R^{2} - r^{2}}} - \\frac{r^{5}}{4 \\sqrt{R^{2} - r^{2}}}$"
      ],
      "text/plain": [
       "-R**4*r/(8*sqrt(R**2 - r**2)) + R**4*asin(r/R)/8 + 3*R**2*r**3/(8*sqrt(R**2 - r**2)) - r**5/(4*sqrt(R**2 - r**2))"
      ]
     },
     "execution_count": 27,
     "metadata": {},
     "output_type": "execute_result"
    }
   ],
   "source": [
    "sol = I.args[1][0]\n",
    "sol"
   ]
  },
  {
   "cell_type": "code",
   "execution_count": 28,
   "id": "d436c644-92e9-4081-b176-828994cf0955",
   "metadata": {},
   "outputs": [
    {
     "data": {
      "text/latex": [
       "$\\displaystyle \\frac{- R^{4} r + R^{4} \\sqrt{R^{2} - r^{2}} \\operatorname{asin}{\\left(\\frac{r}{R} \\right)} + 3 R^{2} r^{3} - 2 r^{5}}{8 \\sqrt{R^{2} - r^{2}}}$"
      ],
      "text/plain": [
       "(-R**4*r + R**4*sqrt(R**2 - r**2)*asin(r/R) + 3*R**2*r**3 - 2*r**5)/(8*sqrt(R**2 - r**2))"
      ]
     },
     "execution_count": 28,
     "metadata": {},
     "output_type": "execute_result"
    }
   ],
   "source": [
    "sol.simplify()"
   ]
  },
  {
   "cell_type": "code",
   "execution_count": 29,
   "id": "0517d7ad-32cd-418e-9331-85db94639655",
   "metadata": {},
   "outputs": [],
   "source": [
    "bose = integrate(x**3/(exp(x)-1), (x, 0, oo))"
   ]
  },
  {
   "cell_type": "code",
   "execution_count": 30,
   "id": "c13730fc-c7a2-4b87-be8b-63e53477f756",
   "metadata": {},
   "outputs": [
    {
     "data": {
      "text/latex": [
       "$\\displaystyle \\int\\limits_{0}^{\\infty} \\frac{x^{3}}{e^{x} - 1}\\, dx$"
      ],
      "text/plain": [
       "Integral(x**3/(exp(x) - 1), (x, 0, oo))"
      ]
     },
     "execution_count": 30,
     "metadata": {},
     "output_type": "execute_result"
    }
   ],
   "source": [
    "bose"
   ]
  },
  {
   "cell_type": "code",
   "execution_count": 31,
   "id": "65b88bfe-6a4b-43f7-b34b-c4d14d77f77e",
   "metadata": {},
   "outputs": [
    {
     "data": {
      "text/latex": [
       "$\\displaystyle \\int\\limits_{0}^{\\infty} \\frac{x^{3}}{e^{x} - 1}\\, dx$"
      ],
      "text/plain": [
       "Integral(x**3/(exp(x) - 1), (x, 0, oo))"
      ]
     },
     "execution_count": 31,
     "metadata": {},
     "output_type": "execute_result"
    }
   ],
   "source": [
    "bose.doit()"
   ]
  },
  {
   "cell_type": "code",
   "execution_count": 32,
   "id": "f83dc262-f0d1-454e-8dd7-c33c06de74e7",
   "metadata": {},
   "outputs": [
    {
     "data": {
      "text/latex": [
       "$\\displaystyle \\sum_{n=0}^{\\infty} e^{- n x}$"
      ],
      "text/plain": [
       "Sum(exp(-n*x), (n, 0, oo))"
      ]
     },
     "execution_count": 32,
     "metadata": {},
     "output_type": "execute_result"
    }
   ],
   "source": [
    "from sympy import Sum\n",
    "x = Symbol('x', nonnegative=True, real=True)\n",
    "n = Symbol('n', nonnegative=True, real=True)\n",
    "Sum(exp(-n*x), (n, 0, oo))"
   ]
  },
  {
   "cell_type": "code",
   "execution_count": 33,
   "id": "37f43fa7-6048-4382-9978-967005a47ee4",
   "metadata": {},
   "outputs": [
    {
     "data": {
      "text/latex": [
       "$\\displaystyle \\sum_{n=0}^{\\infty} e^{- n x}$"
      ],
      "text/plain": [
       "Sum(exp(-n*x), (n, 0, oo))"
      ]
     },
     "execution_count": 33,
     "metadata": {},
     "output_type": "execute_result"
    }
   ],
   "source": [
    "Sum(exp(-n*x), (n, 0, oo)).doit()"
   ]
  },
  {
   "cell_type": "code",
   "execution_count": 34,
   "id": "978b50da-09ed-47f8-8494-d0231e912268",
   "metadata": {},
   "outputs": [
    {
     "data": {
      "text/latex": [
       "$\\displaystyle \\sum_{n=1}^{\\infty} e^{- n x}$"
      ],
      "text/plain": [
       "Sum(exp(-n*x), (n, 1, oo))"
      ]
     },
     "execution_count": 34,
     "metadata": {},
     "output_type": "execute_result"
    }
   ],
   "source": [
    "Sum(exp(-n*x), (n, 1, oo)).doit()"
   ]
  },
  {
   "cell_type": "code",
   "execution_count": 35,
   "id": "0c90b331-78d5-4106-87ba-6097ab25358b",
   "metadata": {},
   "outputs": [
    {
     "data": {
      "text/latex": [
       "$\\displaystyle \\sum_{n=1}^{\\infty} \\frac{1}{n^{2}}$"
      ],
      "text/plain": [
       "Sum(n**(-2), (n, 1, oo))"
      ]
     },
     "execution_count": 35,
     "metadata": {},
     "output_type": "execute_result"
    }
   ],
   "source": [
    "Sum(1/n**2, (n, 1, oo))"
   ]
  },
  {
   "cell_type": "code",
   "execution_count": 36,
   "id": "6a959016-1e5f-4397-b9c6-28620171e7fc",
   "metadata": {},
   "outputs": [
    {
     "data": {
      "text/latex": [
       "$\\displaystyle \\frac{\\pi^{2}}{6}$"
      ],
      "text/plain": [
       "pi**2/6"
      ]
     },
     "execution_count": 36,
     "metadata": {},
     "output_type": "execute_result"
    }
   ],
   "source": [
    "Sum(1/n**2, (n, 1, oo)).doit()"
   ]
  },
  {
   "cell_type": "code",
   "execution_count": 37,
   "id": "3f9fb4b8-e080-444f-8d42-7723263b3e9a",
   "metadata": {},
   "outputs": [
    {
     "data": {
      "text/latex": [
       "$\\displaystyle \\left(- \\log{\\left(x \\right)}\\right)^{- n} \\log{\\left(x \\right)}^{n} \\Gamma\\left(n + 1, - \\log{\\left(x \\right)}\\right)$"
      ],
      "text/plain": [
       "log(x)**n*uppergamma(n + 1, -log(x))/(-log(x))**n"
      ]
     },
     "execution_count": 37,
     "metadata": {},
     "output_type": "execute_result"
    }
   ],
   "source": [
    "integrate(ln(x)**n, x)"
   ]
  },
  {
   "cell_type": "code",
   "execution_count": 38,
   "id": "8eb1b007-29d3-447f-9f6e-252b328b4835",
   "metadata": {},
   "outputs": [
    {
     "data": {
      "text/latex": [
       "$\\displaystyle \\int\\limits_{0}^{\\infty} \\frac{x^{3}}{e^{x} - 1}\\, dx$"
      ],
      "text/plain": [
       "Integral(x**3/(exp(x) - 1), (x, 0, oo))"
      ]
     },
     "execution_count": 38,
     "metadata": {},
     "output_type": "execute_result"
    }
   ],
   "source": [
    "bose"
   ]
  },
  {
   "cell_type": "code",
   "execution_count": 39,
   "id": "5f6d59a2-ec68-438d-b1b8-ff86f8539d86",
   "metadata": {},
   "outputs": [
    {
     "data": {
      "text/latex": [
       "$\\displaystyle \\frac{\\pi^{4}}{15}$"
      ],
      "text/plain": [
       "pi**4/15"
      ]
     },
     "execution_count": 39,
     "metadata": {},
     "output_type": "execute_result"
    }
   ],
   "source": [
    "from sympy import gamma, zeta\n",
    "gamma(4)*zeta(4)"
   ]
  },
  {
   "cell_type": "code",
   "execution_count": 40,
   "id": "5807eeeb-38cd-4a1f-a227-5712d908af35",
   "metadata": {},
   "outputs": [
    {
     "data": {
      "text/latex": [
       "$\\displaystyle \\frac{\\pi^{2}}{6}$"
      ],
      "text/plain": [
       "pi**2/6"
      ]
     },
     "execution_count": 40,
     "metadata": {},
     "output_type": "execute_result"
    }
   ],
   "source": [
    "gamma(2)*zeta(2)"
   ]
  },
  {
   "cell_type": "code",
   "execution_count": 41,
   "id": "49edeffc-371d-4d85-a0aa-3730ede27b45",
   "metadata": {},
   "outputs": [],
   "source": [
    "from sympy import Integral, integrate, ln, Symbol\n",
    "x = Symbol('x', nonnegative=True)\n",
    "n = Symbol('n', positive=True, real=True)\n",
    "LogI = Integral(ln(1/x)**n, (x, 0, 1))"
   ]
  },
  {
   "cell_type": "code",
   "execution_count": 42,
   "id": "8585e6aa-c284-4a2e-9942-0e848f02bef0",
   "metadata": {},
   "outputs": [
    {
     "data": {
      "text/latex": [
       "$\\displaystyle \\int\\limits_{0}^{1} \\log{\\left(\\frac{1}{x} \\right)}^{n}\\, dx$"
      ],
      "text/plain": [
       "Integral(log(1/x)**n, (x, 0, 1))"
      ]
     },
     "execution_count": 42,
     "metadata": {},
     "output_type": "execute_result"
    }
   ],
   "source": [
    "LogI"
   ]
  },
  {
   "cell_type": "code",
   "execution_count": 43,
   "id": "fccffbd7-6d52-4200-993c-74ee0dda07e5",
   "metadata": {},
   "outputs": [
    {
     "data": {
      "text/latex": [
       "$\\displaystyle \\Gamma\\left(n + 1\\right)$"
      ],
      "text/plain": [
       "gamma(n + 1)"
      ]
     },
     "execution_count": 43,
     "metadata": {},
     "output_type": "execute_result"
    }
   ],
   "source": [
    "LogI.doit()"
   ]
  },
  {
   "cell_type": "code",
   "execution_count": null,
   "id": "732369de-1c50-4990-a3d2-ae8464b35d89",
   "metadata": {},
   "outputs": [],
   "source": []
  }
 ],
 "metadata": {
  "kernelspec": {
   "display_name": "Python 3 (ipykernel)",
   "language": "python",
   "name": "python3"
  },
  "language_info": {
   "codemirror_mode": {
    "name": "ipython",
    "version": 3
   },
   "file_extension": ".py",
   "mimetype": "text/x-python",
   "name": "python",
   "nbconvert_exporter": "python",
   "pygments_lexer": "ipython3",
   "version": "3.11.1"
  }
 },
 "nbformat": 4,
 "nbformat_minor": 5
}
