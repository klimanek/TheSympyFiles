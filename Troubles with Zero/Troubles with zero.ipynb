{
 "cells": [
  {
   "cell_type": "markdown",
   "id": "4f3c05d0-fa47-4a20-a165-c27f7dc56668",
   "metadata": {},
   "source": [
    "### Troubles with $0^t$\n",
    "\n",
    "Let's evaluate the following integral in Sympy:\n",
    "\n",
    "$$\\int x^t\\, \\mathrm{d}x = \\frac{x^{t+1}}{t+1} + C,\\, t\\neq -1.$$\n"
   ]
  },
  {
   "cell_type": "code",
   "execution_count": 8,
   "id": "17adeda0-9bce-40b3-9bcf-5a93dbf9ca91",
   "metadata": {},
   "outputs": [
    {
     "data": {
      "text/latex": [
       "$\\displaystyle \\begin{cases} \\frac{x^{t + 1}}{t + 1} & \\text{for}\\: t \\neq -1 \\\\\\log{\\left(x \\right)} & \\text{otherwise} \\end{cases}$"
      ],
      "text/plain": [
       "Piecewise((x**(t + 1)/(t + 1), Ne(t, -1)), (log(x), True))"
      ]
     },
     "execution_count": 8,
     "metadata": {},
     "output_type": "execute_result"
    }
   ],
   "source": [
    "from sympy import Symbol, integrate\n",
    "\n",
    "x = Symbol('x')\n",
    "t = Symbol('t')\n",
    "f = x**t\n",
    "\n",
    "integrate(f, x)"
   ]
  },
  {
   "cell_type": "markdown",
   "id": "30bc5ad1-a520-4ebe-b07a-11bd88a49f3d",
   "metadata": {},
   "source": [
    "So far so good. But see what happens if we try to calculate its definite form on $[0, 1]$. With a pencil and a piece of paper you would obtain\n",
    "\n",
    "$$\\int_0^1 x^t\\,\\mathrm{d}x = \\frac{1}{t+1},\\, t\\gt -1.$$\n",
    "\n",
    "However, here is what Sympy returns:"
   ]
  },
  {
   "cell_type": "code",
   "execution_count": 9,
   "id": "18f914ec-30a0-491c-a94d-f54f57f644a8",
   "metadata": {},
   "outputs": [
    {
     "data": {
      "text/latex": [
       "$\\displaystyle \\begin{cases} - \\frac{0^{t + 1}}{t + 1} + \\frac{1}{t + 1} & \\text{for}\\: t > -\\infty \\wedge t < \\infty \\wedge t \\neq -1 \\\\\\infty & \\text{otherwise} \\end{cases}$"
      ],
      "text/plain": [
       "Piecewise((-0**(t + 1)/(t + 1) + 1/(t + 1), (t > -oo) & (t < oo) & Ne(t, -1)), (oo, True))"
      ]
     },
     "execution_count": 9,
     "metadata": {},
     "output_type": "execute_result"
    }
   ],
   "source": [
    "integrate(f, (x, 0, 1))"
   ]
  },
  {
   "cell_type": "markdown",
   "id": "63dd22f0-8c12-44b2-886f-4ef336de8dc5",
   "metadata": {},
   "source": [
    "We have been given a kind of too wild piecewise expression. The first condition can be reduced to just $t\\neq-1$.\n",
    "\n",
    "If we specify that $t$ lies in real domain, Sympy does simplify the condition. Why? I don't know."
   ]
  },
  {
   "cell_type": "code",
   "execution_count": 6,
   "id": "535b60bc-68fa-4320-9f17-b964b482df25",
   "metadata": {},
   "outputs": [
    {
     "data": {
      "text/latex": [
       "$\\displaystyle \\begin{cases} - \\frac{0^{t + 1}}{t + 1} + \\frac{1}{t + 1} & \\text{for}\\: t \\neq -1 \\\\\\infty & \\text{otherwise} \\end{cases}$"
      ],
      "text/plain": [
       "Piecewise((-0**(t + 1)/(t + 1) + 1/(t + 1), Ne(t, -1)), (oo, True))"
      ]
     },
     "execution_count": 6,
     "metadata": {},
     "output_type": "execute_result"
    }
   ],
   "source": [
    "t = Symbol('t', real=True)\n",
    "f = x**t\n",
    "integrate(f, (x, 0, 1))"
   ]
  },
  {
   "cell_type": "markdown",
   "id": "3d5cfde2-99ba-4ba0-9242-7f568a3570b3",
   "metadata": {},
   "source": [
    "Moreover, we can see some pretty ugly leftover,\n",
    "\n",
    "$$h(t) := -\\frac{0^{t+1}}{t+1}$$\n",
    "\n",
    "that can be rewritten as follows:\n",
    "\n",
    "$$\\begin{equation*}\n",
    "h(t) = \\left\\{\n",
    "        \\begin{array}{ll}\n",
    "            0 & \\quad t \\gt -1 \\\\\n",
    "            \\mathrm{NaN} & \\quad t \\leq -1\n",
    "        \\end{array}\n",
    "    \\right.\n",
    "\\end{equation*}$$\n",
    "\n",
    "It is safe to claim that\n",
    "* $h(-1) = -\\frac{0^0}{0}$ is undefined\n",
    "* $h(t\\lt -1) = \\frac{1}{0}$ is undefined.\n",
    "\n",
    "However, Sympy developers have put $\\lim_{x\\to 0} 1/x \\equiv \\infty = \\lim_{x\\to 0^+} 1/x \\neq \\lim_{x\\to 0^-} 1/x = -\\infty$. If we turn a blind eye, this choice (omitting the whole negative branch) is justifiable especially for natural scientists using Sympy (e.g. in case of gravitational potential $U(r) \\propto -1/r$, we don't need to worry about negative distances and we \"don't approache $0$ from below\"). "
   ]
  },
  {
   "cell_type": "code",
   "execution_count": 4,
   "id": "bc7224ba-77b0-4969-849d-756827bd18de",
   "metadata": {},
   "outputs": [
    {
     "data": {
      "text/latex": [
       "$\\displaystyle \\infty$"
      ],
      "text/plain": [
       "oo"
      ]
     },
     "execution_count": 4,
     "metadata": {},
     "output_type": "execute_result"
    }
   ],
   "source": [
    "from sympy import limit\n",
    "limit(1/x, x, 0)"
   ]
  },
  {
   "cell_type": "markdown",
   "id": "7235a6af-e99e-4881-8ca3-6eaff72995fa",
   "metadata": {},
   "source": [
    "Hence we are allowed to write\n",
    "\n",
    "$$\\begin{equation}\n",
    "h(t) = \n",
    "        \\begin{cases}\n",
    "            0 & \\quad t \\gt -1 \\\\\n",
    "            \\infty & \\quad t \\leq -1\n",
    "        \\end{cases}\n",
    "\\end{equation}$$"
   ]
  },
  {
   "cell_type": "markdown",
   "id": "f7fe62eb-cb9f-479a-9813-d34566bcb8d8",
   "metadata": {},
   "source": [
    "Combining it with $1/(t+1)$ we obtain in Sympy context\n",
    "\n",
    "$$\\begin{equation*}\n",
    "I(t) = \\left\\{\n",
    "        \\begin{array}{ll}\n",
    "            0 + \\frac{1}{t+1}& \\quad t \\gt -1 \\\\\n",
    "            \\infty\\equiv\\mathrm{NaN} & \\quad t \\leq -1\n",
    "        \\end{array}\n",
    "    \\right.\n",
    "\\end{equation*}$$"
   ]
  },
  {
   "cell_type": "markdown",
   "id": "25605a23-bc28-40f3-8f88-428838ae913e",
   "metadata": {},
   "source": [
    "Sympy does return a correct answer if we restrict $t$ to take only non-negative values (I am afraid that is the maximum we can do now): "
   ]
  },
  {
   "cell_type": "code",
   "execution_count": 5,
   "id": "4f7d3797-aaff-48ae-bd67-074aac051519",
   "metadata": {},
   "outputs": [
    {
     "data": {
      "text/latex": [
       "$\\displaystyle \\frac{1}{t + 1}$"
      ],
      "text/plain": [
       "1/(t + 1)"
      ]
     },
     "execution_count": 5,
     "metadata": {},
     "output_type": "execute_result"
    }
   ],
   "source": [
    "x = Symbol('x')\n",
    "t = Symbol('t', nonnegative=True)\n",
    "f = x**t\n",
    "\n",
    "integrate(f, (x, 0, 1))"
   ]
  },
  {
   "cell_type": "markdown",
   "id": "dc843372-463e-4dfe-9cde-4f96c2af80a7",
   "metadata": {},
   "source": [
    "### Other suspicious results\n",
    "\n",
    "Since Sympy seems to overlook cases involving $0^t$ and leaves this expression untreated, we might encounter other issues. For example, let's ask Sympy where the function $h(t)$ is continuous. We expect the interval $(-1, \\infty)$ but instead, we are given:"
   ]
  },
  {
   "cell_type": "code",
   "execution_count": 6,
   "id": "220e39b4-c2c8-4a6a-a29b-08b00df820f7",
   "metadata": {},
   "outputs": [
    {
     "data": {
      "text/latex": [
       "$\\displaystyle \\left(-\\infty, -1\\right) \\cup \\left(-1, \\infty\\right)$"
      ],
      "text/plain": [
       "Union(Interval.open(-oo, -1), Interval.open(-1, oo))"
      ]
     },
     "execution_count": 6,
     "metadata": {},
     "output_type": "execute_result"
    }
   ],
   "source": [
    "from sympy import S, limit\n",
    "from sympy.calculus.util import continuous_domain\n",
    "from sympy.calculus.singularities import singularities\n",
    "\n",
    "t = Symbol('t', real=True)\n",
    "h = -0**(t+1)/(t+1)\n",
    "continuous_domain(h, t, S.Reals)"
   ]
  },
  {
   "cell_type": "markdown",
   "id": "60639b3a-843b-4dca-a905-cf57cc8afec1",
   "metadata": {},
   "source": [
    "And indeed, Sympy seems to check only the denominator: "
   ]
  },
  {
   "cell_type": "code",
   "execution_count": 7,
   "id": "4646f17b-3a5b-4cb0-b2e8-682385029d23",
   "metadata": {},
   "outputs": [
    {
     "data": {
      "text/latex": [
       "$\\displaystyle \\mathbb{R}$"
      ],
      "text/plain": [
       "Reals"
      ]
     },
     "execution_count": 7,
     "metadata": {},
     "output_type": "execute_result"
    }
   ],
   "source": [
    "continuous_domain(0**t, t, S.Reals)"
   ]
  },
  {
   "cell_type": "markdown",
   "id": "1da62221-c3dd-4335-bb71-bf2a6d624ac4",
   "metadata": {},
   "source": [
    "The same is true for singularities. Sympy will check the denominator and is done:"
   ]
  },
  {
   "cell_type": "code",
   "execution_count": 9,
   "id": "f2cc3b9a-3254-4634-ab60-22303f3e4e62",
   "metadata": {},
   "outputs": [
    {
     "data": {
      "text/latex": [
       "$\\displaystyle \\left\\{-1\\right\\}$"
      ],
      "text/plain": [
       "{-1}"
      ]
     },
     "execution_count": 9,
     "metadata": {},
     "output_type": "execute_result"
    }
   ],
   "source": [
    "singularities(h, t)"
   ]
  },
  {
   "cell_type": "markdown",
   "id": "46ee4954-5de0-4aef-a002-8edeec02c4c2",
   "metadata": {},
   "source": [
    "There are uncountable many singularites: $(-\\infty, -1]$. From this, we can guess that Sympy will tell us that $0^t$ has no singularities whatsoever:"
   ]
  },
  {
   "cell_type": "code",
   "execution_count": 10,
   "id": "67a3111e-f571-4708-af7e-8b6b80ea5d2e",
   "metadata": {},
   "outputs": [
    {
     "data": {
      "text/latex": [
       "$\\displaystyle \\emptyset$"
      ],
      "text/plain": [
       "EmptySet"
      ]
     },
     "execution_count": 10,
     "metadata": {},
     "output_type": "execute_result"
    }
   ],
   "source": [
    "singularities(0**t, t)"
   ]
  },
  {
   "cell_type": "markdown",
   "id": "8daa1432-5f17-4987-b5b0-ca3976717079",
   "metadata": {},
   "source": [
    "Simply put: $0^t$ must be treated in Sympy and the corresponding functions should be modified accordingly."
   ]
  },
  {
   "cell_type": "markdown",
   "id": "062d2c7e-2bce-474b-ac31-0ac4f1db97be",
   "metadata": {},
   "source": [
    "[Sympy issue opened](https://github.com/sympy/sympy/issues/26949)."
   ]
  },
  {
   "cell_type": "code",
   "execution_count": null,
   "id": "02cabb3e-366c-46fe-9b00-3584644eaef4",
   "metadata": {},
   "outputs": [],
   "source": []
  }
 ],
 "metadata": {
  "kernelspec": {
   "display_name": "Python 3 (ipykernel)",
   "language": "python",
   "name": "python3"
  },
  "language_info": {
   "codemirror_mode": {
    "name": "ipython",
    "version": 3
   },
   "file_extension": ".py",
   "mimetype": "text/x-python",
   "name": "python",
   "nbconvert_exporter": "python",
   "pygments_lexer": "ipython3",
   "version": "3.11.1"
  }
 },
 "nbformat": 4,
 "nbformat_minor": 5
}
